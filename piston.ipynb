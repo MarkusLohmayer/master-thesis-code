{
 "cells": [
  {
   "cell_type": "code",
   "execution_count": 2,
   "metadata": {},
   "outputs": [],
   "source": [
    "import sympy\n",
    "sympy.init_printing()"
   ]
  },
  {
   "cell_type": "markdown",
   "metadata": {},
   "source": [
    "## GENERIC formulation\n",
    "\n",
    "$$\n",
    "\t\t\\begin{bmatrix}\n",
    "\t\t\t\\dot{q} \\\\\n",
    "\t\t\t\\dot{p} \\\\\n",
    "\t\t\t\\dot{s}_1 \\\\\n",
    "\t\t\t\\dot{s}_2\n",
    "\t\t\\end{bmatrix}\n",
    "\t\t\\: = \\:\n",
    "\t\t\\begin{bmatrix}\n",
    "\t\t\t0 && 1 && 0 && 0 \\\\\n",
    "\t\t\t-1 && 0 && 0 && 0 \\\\\n",
    "\t\t\t0 && 0 && 0 && 0 \\\\\n",
    "\t\t\t0 && 0 && 0 && 0 \\\\\n",
    "\t\t\\end{bmatrix}\n",
    "\t\t\\,\n",
    "\t\t\\begin{bmatrix}\n",
    "\t\t\t\\left(\\pi_2 - \\pi_1\\right) A \\\\\n",
    "\t\t\tv \\\\\n",
    "\t\t\t\\theta_1 \\\\\n",
    "\t\t\t\\theta_2\n",
    "\t\t\\end{bmatrix}\n",
    "\t\t\\: + \\:\n",
    "\t\t\\begin{bmatrix}\n",
    "\t\t\t0 && 0 && 0 && 0 \\\\\n",
    "\t\t\t0 && 0 && 0 && 0 \\\\\n",
    "\t\t\t0 && 0 && \\alpha \\, \\frac{\\theta_2}{\\theta_1} && -\\alpha \\\\\n",
    "\t\t\t0 && 0 && -\\alpha && \\alpha \\, \\frac{\\theta_1}{\\theta_2}\n",
    "\t\t\\end{bmatrix}\n",
    "\t\t\\,\n",
    "\t\t\\begin{bmatrix}\n",
    "\t\t\t0 \\\\ 0 \\\\ 1 \\\\ 1\n",
    "\t\t\\end{bmatrix}\n",
    "$$"
   ]
  },
  {
   "cell_type": "code",
   "execution_count": 3,
   "metadata": {},
   "outputs": [],
   "source": [
    "θ_1 = sympy.Symbol('θ_1', real=True, positive = True)\n",
    "θ_2 = sympy.Symbol('θ_2', real=True, positive = True)\n",
    "π_1 = sympy.Symbol('π_1', real=True, positive = True)\n",
    "π_2 = sympy.Symbol('π_2', real=True, positive = True)\n",
    "υ = sympy.Symbol('υ', real=True)\n",
    "\n",
    "A = sympy.Symbol('A', real=True, positive = True)\n",
    "α = sympy.Symbol('α', real=True, positive = True)"
   ]
  },
  {
   "cell_type": "code",
   "execution_count": 4,
   "metadata": {},
   "outputs": [],
   "source": [
    "dE = sympy.Matrix([\n",
    "    [(π_2 - π_1) * A],\n",
    "    [υ],\n",
    "    [θ_1],\n",
    "    [θ_2]\n",
    "])"
   ]
  },
  {
   "cell_type": "code",
   "execution_count": 5,
   "metadata": {},
   "outputs": [],
   "source": [
    "dS = sympy.Matrix([\n",
    "    [0],\n",
    "    [0],\n",
    "    [1],\n",
    "    [1]\n",
    "])"
   ]
  },
  {
   "cell_type": "code",
   "execution_count": 6,
   "metadata": {},
   "outputs": [],
   "source": [
    "J = sympy.Matrix([\n",
    "    [0, 1, 0, 0],\n",
    "    [-1, 0, 0, 0],\n",
    "    [0, 0, 0, 0],\n",
    "    [0, 0, 0, 0]\n",
    "])"
   ]
  },
  {
   "cell_type": "code",
   "execution_count": 8,
   "metadata": {},
   "outputs": [],
   "source": [
    "R = sympy.Matrix([\n",
    "    [0, 0, 0, 0],\n",
    "    [0, 0, 0, 0],\n",
    "    [0, 0, α * θ_2 / θ_1, -α],\n",
    "    [0, 0, -α, α * θ_1 / θ_2]\n",
    "])"
   ]
  },
  {
   "cell_type": "code",
   "execution_count": 9,
   "metadata": {},
   "outputs": [
    {
     "data": {
      "image/png": "[encoded data removed]",
      "text/latex": [
       "$$\\left[\\begin{matrix}0\\\\0\\\\0\\\\0\\end{matrix}\\right]$$"
      ],
      "text/plain": [
       "⎡0⎤\n",
       "⎢ ⎥\n",
       "⎢0⎥\n",
       "⎢ ⎥\n",
       "⎢0⎥\n",
       "⎢ ⎥\n",
       "⎣0⎦"
      ]
     },
     "execution_count": 9,
     "metadata": {},
     "output_type": "execute_result"
    }
   ],
   "source": [
    "J @ dS"
   ]
  },
  {
   "cell_type": "code",
   "execution_count": 10,
   "metadata": {},
   "outputs": [
    {
     "data": {
      "image/png": "[encoded data removed]",
      "text/latex": [
       "$$\\left[\\begin{matrix}0\\\\0\\\\0\\\\0\\end{matrix}\\right]$$"
      ],
      "text/plain": [
       "⎡0⎤\n",
       "⎢ ⎥\n",
       "⎢0⎥\n",
       "⎢ ⎥\n",
       "⎢0⎥\n",
       "⎢ ⎥\n",
       "⎣0⎦"
      ]
     },
     "execution_count": 10,
     "metadata": {},
     "output_type": "execute_result"
    }
   ],
   "source": [
    "R @ dE"
   ]
  },
  {
   "cell_type": "code",
   "execution_count": 11,
   "metadata": {},
   "outputs": [
    {
     "data": {
      "text/latex": [
       "$$\\left[\\begin{matrix}υ\\\\A \\left(π_{1} - π_{2}\\right)\\\\\\frac{α \\left(- θ_{1} + θ_{2}\\right)}{θ_{1}}\\\\\\frac{α \\left(θ_{1} - θ_{2}\\right)}{θ_{2}}\\end{matrix}\\right]$$"
      ],
      "text/plain": [
       "⎡     υ      ⎤\n",
       "⎢            ⎥\n",
       "⎢A⋅(π₁ - π₂) ⎥\n",
       "⎢            ⎥\n",
       "⎢α⋅(-θ₁ + θ₂)⎥\n",
       "⎢────────────⎥\n",
       "⎢     θ₁     ⎥\n",
       "⎢            ⎥\n",
       "⎢α⋅(θ₁ - θ₂) ⎥\n",
       "⎢─────────── ⎥\n",
       "⎣     θ₂     ⎦"
      ]
     },
     "execution_count": 11,
     "metadata": {},
     "output_type": "execute_result"
    }
   ],
   "source": [
    "(J @ dE + R @ dS).applyfunc(sympy.simplify)"
   ]
  },
  {
   "cell_type": "markdown",
   "metadata": {},
   "source": [
    "## Port-Hamiltonian reformulation"
   ]
  },
  {
   "cell_type": "code",
   "execution_count": 12,
   "metadata": {},
   "outputs": [],
   "source": [
    "θ_0 = sympy.Symbol('θ_0', real=True, positive = True)"
   ]
  },
  {
   "cell_type": "code",
   "execution_count": 14,
   "metadata": {},
   "outputs": [
    {
     "data": {
      "text/latex": [
       "$$\\left[\\begin{matrix}A \\left(- π_{1} + π_{2}\\right)\\\\υ\\\\- θ_{0} + θ_{1}\\\\- θ_{0} + θ_{2}\\end{matrix}\\right]$$"
      ],
      "text/plain": [
       "⎡A⋅(-π₁ + π₂)⎤\n",
       "⎢            ⎥\n",
       "⎢     υ      ⎥\n",
       "⎢            ⎥\n",
       "⎢  -θ₀ + θ₁  ⎥\n",
       "⎢            ⎥\n",
       "⎣  -θ₀ + θ₂  ⎦"
      ]
     },
     "execution_count": 14,
     "metadata": {},
     "output_type": "execute_result"
    }
   ],
   "source": [
    "dH = dE - θ_0 * dS\n",
    "dH"
   ]
  },
  {
   "cell_type": "markdown",
   "metadata": {},
   "source": [
    "### without factorization"
   ]
  },
  {
   "cell_type": "code",
   "execution_count": 15,
   "metadata": {},
   "outputs": [],
   "source": [
    "D = R / θ_0\n",
    "C = sympy.eye(4)"
   ]
  },
  {
   "cell_type": "code",
   "execution_count": 19,
   "metadata": {},
   "outputs": [
    {
     "data": {
      "image/png": "[encoded data removed]",
      "text/latex": [
       "$$\\left[\\begin{matrix}0 & 0 & 0 & 0\\\\0 & 0 & 0 & 0\\\\0 & 0 & 0 & 0\\\\0 & 0 & 0 & 0\\end{matrix}\\right]$$"
      ],
      "text/plain": [
       "⎡0  0  0  0⎤\n",
       "⎢          ⎥\n",
       "⎢0  0  0  0⎥\n",
       "⎢          ⎥\n",
       "⎢0  0  0  0⎥\n",
       "⎢          ⎥\n",
       "⎣0  0  0  0⎦"
      ]
     },
     "execution_count": 19,
     "metadata": {},
     "output_type": "execute_result"
    }
   ],
   "source": [
    "(θ_0 * C @ D @ C.T - R).applyfunc(sympy.simplify)"
   ]
  },
  {
   "cell_type": "code",
   "execution_count": 26,
   "metadata": {},
   "outputs": [],
   "source": [
    "y_R = C.T @ dH"
   ]
  },
  {
   "cell_type": "code",
   "execution_count": 27,
   "metadata": {},
   "outputs": [],
   "source": [
    "u_R = -D @ y_R"
   ]
  },
  {
   "cell_type": "code",
   "execution_count": 29,
   "metadata": {},
   "outputs": [
    {
     "data": {
      "text/latex": [
       "$$\\left[\\begin{matrix}υ\\\\A \\left(π_{1} - π_{2}\\right)\\\\- α + \\frac{α θ_{2}}{θ_{1}}\\\\\\frac{α \\left(θ_{1} - θ_{2}\\right)}{θ_{2}}\\end{matrix}\\right]$$"
      ],
      "text/plain": [
       "⎡     υ     ⎤\n",
       "⎢           ⎥\n",
       "⎢A⋅(π₁ - π₂)⎥\n",
       "⎢           ⎥\n",
       "⎢      α⋅θ₂ ⎥\n",
       "⎢ -α + ──── ⎥\n",
       "⎢       θ₁  ⎥\n",
       "⎢           ⎥\n",
       "⎢α⋅(θ₁ - θ₂)⎥\n",
       "⎢───────────⎥\n",
       "⎣     θ₂    ⎦"
      ]
     },
     "execution_count": 29,
     "metadata": {},
     "output_type": "execute_result"
    }
   ],
   "source": [
    "(J @ dH + C @ u_R).applyfunc(sympy.simplify)"
   ]
  },
  {
   "cell_type": "markdown",
   "metadata": {},
   "source": [
    "### factorization of R\n",
    "\n",
    "$R = \\theta_0 \\, C \\, D \\, C^\\mathrm{T}$"
   ]
  },
  {
   "cell_type": "code",
   "execution_count": 31,
   "metadata": {},
   "outputs": [],
   "source": [
    "D = sympy.diag(0, 0, α / θ_0, α / θ_0)"
   ]
  },
  {
   "cell_type": "code",
   "execution_count": 32,
   "metadata": {},
   "outputs": [],
   "source": [
    "C = sympy.Matrix([\n",
    "    [0, 0, 0, 0],\n",
    "    [0, 0, 0, 0],\n",
    "    [0, 0, -sympy.sqrt(θ_2 / θ_1), 0],\n",
    "    [0, 0, +sympy.sqrt(θ_1 / θ_2), 0]\n",
    "])"
   ]
  },
  {
   "cell_type": "code",
   "execution_count": 33,
   "metadata": {},
   "outputs": [],
   "source": [
    "C = sympy.Matrix([\n",
    "    [0, 0, 0, 0],\n",
    "    [0, 0, 0, 0],\n",
    "    [0, 0, 0, +sympy.sqrt(θ_2 / θ_1)],\n",
    "    [0, 0, 0, -sympy.sqrt(θ_1 / θ_2)]\n",
    "])"
   ]
  },
  {
   "cell_type": "code",
   "execution_count": 34,
   "metadata": {},
   "outputs": [
    {
     "data": {
      "image/png": "[encoded data removed]",
      "text/latex": [
       "$$\\left[\\begin{matrix}0 & 0 & 0 & 0\\\\0 & 0 & 0 & 0\\\\0 & 0 & 0 & 0\\\\0 & 0 & 0 & 0\\end{matrix}\\right]$$"
      ],
      "text/plain": [
       "⎡0  0  0  0⎤\n",
       "⎢          ⎥\n",
       "⎢0  0  0  0⎥\n",
       "⎢          ⎥\n",
       "⎢0  0  0  0⎥\n",
       "⎢          ⎥\n",
       "⎣0  0  0  0⎦"
      ]
     },
     "execution_count": 34,
     "metadata": {},
     "output_type": "execute_result"
    }
   ],
   "source": [
    "(θ_0 * C @ D @ C.T - R).applyfunc(sympy.simplify)"
   ]
  },
  {
   "cell_type": "code",
   "execution_count": 35,
   "metadata": {},
   "outputs": [
    {
     "data": {
      "image/png": "[encoded data removed]",
      "text/latex": [
       "$$\\left[\\begin{matrix}0\\\\0\\\\0\\\\0\\end{matrix}\\right]$$"
      ],
      "text/plain": [
       "⎡0⎤\n",
       "⎢ ⎥\n",
       "⎢0⎥\n",
       "⎢ ⎥\n",
       "⎢0⎥\n",
       "⎢ ⎥\n",
       "⎣0⎦"
      ]
     },
     "execution_count": 35,
     "metadata": {},
     "output_type": "execute_result"
    }
   ],
   "source": [
    "C.T @ dE"
   ]
  },
  {
   "cell_type": "code",
   "execution_count": 36,
   "metadata": {},
   "outputs": [
    {
     "data": {
      "text/latex": [
       "$$\\left[\\begin{matrix}0\\\\0\\\\0\\\\\\frac{θ_{0} \\left(θ_{1} - θ_{2}\\right)}{\\sqrt{θ_{1}} \\sqrt{θ_{2}}}\\end{matrix}\\right]$$"
      ],
      "text/plain": [
       "⎡      0      ⎤\n",
       "⎢             ⎥\n",
       "⎢      0      ⎥\n",
       "⎢             ⎥\n",
       "⎢      0      ⎥\n",
       "⎢             ⎥\n",
       "⎢ θ₀⋅(θ₁ - θ₂)⎥\n",
       "⎢─────────────⎥\n",
       "⎢  ____   ____⎥\n",
       "⎣╲╱ θ₁ ⋅╲╱ θ₂ ⎦"
      ]
     },
     "execution_count": 36,
     "metadata": {},
     "output_type": "execute_result"
    }
   ],
   "source": [
    "y_R = (C.T @ dH).applyfunc(sympy.simplify)\n",
    "y_R"
   ]
  },
  {
   "cell_type": "code",
   "execution_count": 37,
   "metadata": {},
   "outputs": [
    {
     "data": {
      "text/latex": [
       "$$\\left[\\begin{matrix}0\\\\0\\\\0\\\\- \\frac{α \\left(θ_{1} - θ_{2}\\right)}{\\sqrt{θ_{1}} \\sqrt{θ_{2}}}\\end{matrix}\\right]$$"
      ],
      "text/plain": [
       "⎡      0      ⎤\n",
       "⎢             ⎥\n",
       "⎢      0      ⎥\n",
       "⎢             ⎥\n",
       "⎢      0      ⎥\n",
       "⎢             ⎥\n",
       "⎢-α⋅(θ₁ - θ₂) ⎥\n",
       "⎢─────────────⎥\n",
       "⎢  ____   ____⎥\n",
       "⎣╲╱ θ₁ ⋅╲╱ θ₂ ⎦"
      ]
     },
     "execution_count": 37,
     "metadata": {},
     "output_type": "execute_result"
    }
   ],
   "source": [
    "u_R = -D @ y_R\n",
    "u_R"
   ]
  },
  {
   "cell_type": "code",
   "execution_count": 38,
   "metadata": {},
   "outputs": [
    {
     "data": {
      "text/latex": [
       "$$\\left[\\begin{matrix}υ\\\\A \\left(π_{1} - π_{2}\\right)\\\\- α + \\frac{α θ_{2}}{θ_{1}}\\\\\\frac{α \\left(θ_{1} - θ_{2}\\right)}{θ_{2}}\\end{matrix}\\right]$$"
      ],
      "text/plain": [
       "⎡     υ     ⎤\n",
       "⎢           ⎥\n",
       "⎢A⋅(π₁ - π₂)⎥\n",
       "⎢           ⎥\n",
       "⎢      α⋅θ₂ ⎥\n",
       "⎢ -α + ──── ⎥\n",
       "⎢       θ₁  ⎥\n",
       "⎢           ⎥\n",
       "⎢α⋅(θ₁ - θ₂)⎥\n",
       "⎢───────────⎥\n",
       "⎣     θ₂    ⎦"
      ]
     },
     "execution_count": 38,
     "metadata": {},
     "output_type": "execute_result"
    }
   ],
   "source": [
    "(J @ dH + C @ u_R).applyfunc(sympy.simplify)"
   ]
  }
 ],
 "metadata": {
  "kernelspec": {
   "display_name": "Python 3",
   "language": "python",
   "name": "python3"
  },
  "language_info": {
   "codemirror_mode": {
    "name": "ipython",
    "version": 3
   },
   "file_extension": ".py",
   "mimetype": "text/x-python",
   "name": "python",
   "nbconvert_exporter": "python",
   "pygments_lexer": "ipython3",
   "version": "3.7.3"
  }
 },
 "nbformat": 4,
 "nbformat_minor": 4
}
