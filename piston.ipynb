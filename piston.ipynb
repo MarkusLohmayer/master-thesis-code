{
 "cells": [
  {
   "cell_type": "markdown",
   "metadata": {},
   "source": [
    "# piston example: some symbolic computations"
   ]
  },
  {
   "cell_type": "code",
   "execution_count": 1,
   "metadata": {},
   "outputs": [],
   "source": [
    "import sympy\n",
    "sympy.init_printing()"
   ]
  },
  {
   "cell_type": "markdown",
   "metadata": {},
   "source": [
    "## GENERIC formulation\n",
    "\n",
    "$$\n",
    "\t\t\\begin{bmatrix}\n",
    "\t\t\t\\dot{q} \\\\\n",
    "\t\t\t\\dot{p} \\\\\n",
    "\t\t\t\\dot{s}_1 \\\\\n",
    "\t\t\t\\dot{s}_2\n",
    "\t\t\\end{bmatrix}\n",
    "\t\t\\: = \\:\n",
    "\t\t\\begin{bmatrix}\n",
    "\t\t\t0 && 1 && 0 && 0 \\\\\n",
    "\t\t\t-1 && 0 && 0 && 0 \\\\\n",
    "\t\t\t0 && 0 && 0 && 0 \\\\\n",
    "\t\t\t0 && 0 && 0 && 0 \\\\\n",
    "\t\t\\end{bmatrix}\n",
    "\t\t\\,\n",
    "\t\t\\begin{bmatrix}\n",
    "\t\t\t\\left(\\pi_2 - \\pi_1\\right) A \\\\\n",
    "\t\t\tv \\\\\n",
    "\t\t\t\\theta_1 \\\\\n",
    "\t\t\t\\theta_2\n",
    "\t\t\\end{bmatrix}\n",
    "\t\t\\: + \\:\n",
    "\t\t\\begin{bmatrix}\n",
    "\t\t\t0 && 0 && 0 && 0 \\\\\n",
    "\t\t\t0 && 0 && 0 && 0 \\\\\n",
    "\t\t\t0 && 0 && \\alpha \\, \\frac{\\theta_2}{\\theta_1} && -\\alpha \\\\\n",
    "\t\t\t0 && 0 && -\\alpha && \\alpha \\, \\frac{\\theta_1}{\\theta_2}\n",
    "\t\t\\end{bmatrix}\n",
    "\t\t\\,\n",
    "\t\t\\begin{bmatrix}\n",
    "\t\t\t0 \\\\ 0 \\\\ 1 \\\\ 1\n",
    "\t\t\\end{bmatrix}\n",
    "$$"
   ]
  },
  {
   "cell_type": "code",
   "execution_count": 2,
   "metadata": {},
   "outputs": [],
   "source": [
    "θ_1 = sympy.Symbol('θ_1', real=True, positive=True)\n",
    "θ_2 = sympy.Symbol('θ_2', real=True, positive=True)\n",
    "π_1 = sympy.Symbol('π_1', real=True, positive=True)\n",
    "π_2 = sympy.Symbol('π_2', real=True, positive=True)\n",
    "υ = sympy.Symbol('υ', real=True)\n",
    "\n",
    "A = sympy.Symbol('A', real=True, positive=True)\n",
    "α = sympy.Symbol('α', real=True, positive=True)\n",
    "d = sympy.Symbol('d', real=True, positive=True)"
   ]
  },
  {
   "cell_type": "code",
   "execution_count": 3,
   "metadata": {},
   "outputs": [],
   "source": [
    "dE = sympy.Matrix([\n",
    "    [(π_2 - π_1) * A],\n",
    "    [υ],\n",
    "    [θ_1],\n",
    "    [θ_2]\n",
    "])"
   ]
  },
  {
   "cell_type": "code",
   "execution_count": 4,
   "metadata": {},
   "outputs": [],
   "source": [
    "dS = sympy.Matrix([\n",
    "    [0],\n",
    "    [0],\n",
    "    [1],\n",
    "    [1]\n",
    "])"
   ]
  },
  {
   "cell_type": "code",
   "execution_count": 5,
   "metadata": {},
   "outputs": [],
   "source": [
    "J = sympy.Matrix([\n",
    "    [0, 1, 0, 0],\n",
    "    [-1, 0, 0, 0],\n",
    "    [0, 0, 0, 0],\n",
    "    [0, 0, 0, 0]\n",
    "])"
   ]
  },
  {
   "cell_type": "code",
   "execution_count": 6,
   "metadata": {},
   "outputs": [],
   "source": [
    "assert J.is_anti_symmetric()\n",
    "assert (J @ dS).applyfunc(sympy.simplify).is_zero"
   ]
  },
  {
   "cell_type": "code",
   "execution_count": 7,
   "metadata": {},
   "outputs": [
    {
     "data": {
      "text/latex": [
       "$$\\left[\\begin{matrix}0 & 0 & 0 & 0\\\\0 & 0 & 0 & 0\\\\0 & 0 & \\frac{α θ_{2}}{θ_{1}} & - α\\\\0 & 0 & - α & \\frac{α θ_{1}}{θ_{2}}\\end{matrix}\\right]$$"
      ],
      "text/plain": [
       "⎡0  0   0     0  ⎤\n",
       "⎢                ⎥\n",
       "⎢0  0   0     0  ⎥\n",
       "⎢                ⎥\n",
       "⎢      α⋅θ₂      ⎥\n",
       "⎢0  0  ────   -α ⎥\n",
       "⎢       θ₁       ⎥\n",
       "⎢                ⎥\n",
       "⎢            α⋅θ₁⎥\n",
       "⎢0  0   -α   ────⎥\n",
       "⎣             θ₂ ⎦"
      ]
     },
     "execution_count": 7,
     "metadata": {},
     "output_type": "execute_result"
    }
   ],
   "source": [
    "# heat conduction\n",
    "R_α = sympy.Matrix([\n",
    "    [0, 0, 0, 0],\n",
    "    [0, 0, 0, 0],\n",
    "    [0, 0, α*θ_2/θ_1, -α],\n",
    "    [0, 0, -α, α*θ_1/θ_2]\n",
    "])\n",
    "R_α"
   ]
  },
  {
   "cell_type": "code",
   "execution_count": 8,
   "metadata": {},
   "outputs": [],
   "source": [
    "assert R_α.is_symmetric()\n",
    "assert all([val >= 0 for val in R_α.eigenvals()])\n",
    "assert (R_α @ dE).applyfunc(sympy.simplify).is_zero"
   ]
  },
  {
   "cell_type": "code",
   "execution_count": 9,
   "metadata": {},
   "outputs": [
    {
     "data": {
      "text/latex": [
       "$$\\left[\\begin{matrix}0 & 0 & 0 & 0\\\\0 & \\frac{d \\left(θ_{1} + θ_{2}\\right)}{2} & - \\frac{d υ}{2} & - \\frac{d υ}{2}\\\\0 & - \\frac{d υ}{2} & \\frac{d υ^{2}}{2 θ_{1}} & 0\\\\0 & - \\frac{d υ}{2} & 0 & \\frac{d υ^{2}}{2 θ_{2}}\\end{matrix}\\right]$$"
      ],
      "text/plain": [
       "⎡0       0         0      0  ⎤\n",
       "⎢                            ⎥\n",
       "⎢   d⋅(θ₁ + θ₂)  -d⋅υ   -d⋅υ ⎥\n",
       "⎢0  ───────────  ─────  ─────⎥\n",
       "⎢        2         2      2  ⎥\n",
       "⎢                            ⎥\n",
       "⎢                   2        ⎥\n",
       "⎢      -d⋅υ      d⋅υ         ⎥\n",
       "⎢0     ─────     ────     0  ⎥\n",
       "⎢        2       2⋅θ₁        ⎥\n",
       "⎢                            ⎥\n",
       "⎢                          2 ⎥\n",
       "⎢      -d⋅υ             d⋅υ  ⎥\n",
       "⎢0     ─────       0    ──── ⎥\n",
       "⎣        2              2⋅θ₂ ⎦"
      ]
     },
     "execution_count": 9,
     "metadata": {},
     "output_type": "execute_result"
    }
   ],
   "source": [
    "# friction between piston and cylinder\n",
    "# dissipated kinetic energy goes to internal energy of both compartments with equal shares\n",
    "R_d = sympy.Matrix([\n",
    "    [0, 0, 0, 0],\n",
    "    [0, d*(θ_1+θ_2)/2, -d*υ/2, -d*υ/2],\n",
    "    [0, -d*υ/2, d*υ**2/(2*θ_1), 0],\n",
    "    [0, -d*υ/2, 0, d*υ**2/(2*θ_2)]\n",
    "])\n",
    "R_d"
   ]
  },
  {
   "cell_type": "code",
   "execution_count": 10,
   "metadata": {},
   "outputs": [],
   "source": [
    "assert R_d.is_symmetric()\n",
    "assert (R_d @ dE).applyfunc(sympy.simplify).is_zero"
   ]
  },
  {
   "cell_type": "code",
   "execution_count": 11,
   "metadata": {},
   "outputs": [
    {
     "data": {
      "image/png": "[encoded data removed]",
      "text/latex": [
       "$$\\left [ \\frac{d \\left(θ_{1} + θ_{2}\\right) \\left(θ_{1} θ_{2} + υ^{2}\\right)}{4 θ_{1} θ_{2}} - \\frac{d \\sqrt{θ_{1}^{4} θ_{2}^{2} + 2 θ_{1}^{3} θ_{2}^{3} - 2 θ_{1}^{3} θ_{2} υ^{2} + θ_{1}^{2} θ_{2}^{4} + 4 θ_{1}^{2} θ_{2}^{2} υ^{2} + θ_{1}^{2} υ^{4} - 2 θ_{1} θ_{2}^{3} υ^{2} - 2 θ_{1} θ_{2} υ^{4} + θ_{2}^{2} υ^{4}}}{4 θ_{1} θ_{2}} \\geq 0, \\quad \\frac{d \\left(θ_{1} + θ_{2}\\right) \\left(θ_{1} θ_{2} + υ^{2}\\right)}{4 θ_{1} θ_{2}} + \\frac{d \\sqrt{θ_{1}^{4} θ_{2}^{2} + 2 θ_{1}^{3} θ_{2}^{3} - 2 θ_{1}^{3} θ_{2} υ^{2} + θ_{1}^{2} θ_{2}^{4} + 4 θ_{1}^{2} θ_{2}^{2} υ^{2} + θ_{1}^{2} υ^{4} - 2 θ_{1} θ_{2}^{3} υ^{2} - 2 θ_{1} θ_{2} υ^{4} + θ_{2}^{2} υ^{4}}}{4 θ_{1} θ_{2}} \\geq 0, \\quad \\mathrm{True}\\right ]$$"
      ],
      "text/plain": [
       "⎡                                _____________________________________________\n",
       "⎢            ⎛         2⎞       ╱   4   2       3   3       3     2     2   4 \n",
       "⎢d⋅(θ₁ + θ₂)⋅⎝θ₁⋅θ₂ + υ ⎠   d⋅╲╱  θ₁ ⋅θ₂  + 2⋅θ₁ ⋅θ₂  - 2⋅θ₁ ⋅θ₂⋅υ  + θ₁ ⋅θ₂  \n",
       "⎢──────────────────────── - ──────────────────────────────────────────────────\n",
       "⎣        4⋅θ₁⋅θ₂                                                              \n",
       "\n",
       "____________________________________________________________                  \n",
       "      2   2  2     2  4          3  2            4     2  4                   \n",
       "+ 4⋅θ₁ ⋅θ₂ ⋅υ  + θ₁ ⋅υ  - 2⋅θ₁⋅θ₂ ⋅υ  - 2⋅θ₁⋅θ₂⋅υ  + θ₂ ⋅υ        d⋅(θ₁ + θ₂)⋅\n",
       "──────────────────────────────────────────────────────────── ≥ 0, ────────────\n",
       " 4⋅θ₁⋅θ₂                                                                  4⋅θ₁\n",
       "\n",
       "                    __________________________________________________________\n",
       "⎛         2⎞       ╱   4   2       3   3       3     2     2   4       2   2  \n",
       "⎝θ₁⋅θ₂ + υ ⎠   d⋅╲╱  θ₁ ⋅θ₂  + 2⋅θ₁ ⋅θ₂  - 2⋅θ₁ ⋅θ₂⋅υ  + θ₁ ⋅θ₂  + 4⋅θ₁ ⋅θ₂ ⋅υ\n",
       "──────────── + ───────────────────────────────────────────────────────────────\n",
       "⋅θ₂                                                               4⋅θ₁⋅θ₂     \n",
       "\n",
       "_______________________________________________          ⎤\n",
       "2     2  4          3  2            4     2  4           ⎥\n",
       "  + θ₁ ⋅υ  - 2⋅θ₁⋅θ₂ ⋅υ  - 2⋅θ₁⋅θ₂⋅υ  + θ₂ ⋅υ            ⎥\n",
       "─────────────────────────────────────────────── ≥ 0, True⎥\n",
       "                                                         ⎦"
      ]
     },
     "execution_count": 11,
     "metadata": {},
     "output_type": "execute_result"
    }
   ],
   "source": [
    "[val >= 0 for val in R_d.eigenvals()]"
   ]
  },
  {
   "cell_type": "code",
   "execution_count": 12,
   "metadata": {},
   "outputs": [
    {
     "data": {
      "text/latex": [
       "$$\\left[\\begin{matrix}υ\\\\A \\left(π_{1} - π_{2}\\right) - d υ\\\\\\frac{\\frac{d υ^{2}}{2} - α θ_{1} + α θ_{2}}{θ_{1}}\\\\\\frac{\\frac{d υ^{2}}{2} + α θ_{1} - α θ_{2}}{θ_{2}}\\end{matrix}\\right]$$"
      ],
      "text/plain": [
       "⎡        υ         ⎤\n",
       "⎢                  ⎥\n",
       "⎢A⋅(π₁ - π₂) - d⋅υ ⎥\n",
       "⎢                  ⎥\n",
       "⎢   2              ⎥\n",
       "⎢d⋅υ               ⎥\n",
       "⎢──── - α⋅θ₁ + α⋅θ₂⎥\n",
       "⎢ 2                ⎥\n",
       "⎢──────────────────⎥\n",
       "⎢        θ₁        ⎥\n",
       "⎢                  ⎥\n",
       "⎢   2              ⎥\n",
       "⎢d⋅υ               ⎥\n",
       "⎢──── + α⋅θ₁ - α⋅θ₂⎥\n",
       "⎢ 2                ⎥\n",
       "⎢──────────────────⎥\n",
       "⎣        θ₂        ⎦"
      ]
     },
     "execution_count": 12,
     "metadata": {},
     "output_type": "execute_result"
    }
   ],
   "source": [
    "R = R_α + R_d\n",
    "(J @ dE + R @ dS).applyfunc(sympy.simplify)"
   ]
  },
  {
   "cell_type": "markdown",
   "metadata": {},
   "source": [
    "## Port-Hamiltonian reformulation"
   ]
  },
  {
   "cell_type": "code",
   "execution_count": 13,
   "metadata": {},
   "outputs": [],
   "source": [
    "θ_0 = sympy.Symbol('θ_0', real=True, positive=True)"
   ]
  },
  {
   "cell_type": "code",
   "execution_count": 14,
   "metadata": {},
   "outputs": [
    {
     "data": {
      "text/latex": [
       "$$\\left[\\begin{matrix}A \\left(- π_{1} + π_{2}\\right)\\\\υ\\\\- θ_{0} + θ_{1}\\\\- θ_{0} + θ_{2}\\end{matrix}\\right]$$"
      ],
      "text/plain": [
       "⎡A⋅(-π₁ + π₂)⎤\n",
       "⎢            ⎥\n",
       "⎢     υ      ⎥\n",
       "⎢            ⎥\n",
       "⎢  -θ₀ + θ₁  ⎥\n",
       "⎢            ⎥\n",
       "⎣  -θ₀ + θ₂  ⎦"
      ]
     },
     "execution_count": 14,
     "metadata": {},
     "output_type": "execute_result"
    }
   ],
   "source": [
    "dH = dE - θ_0 * dS\n",
    "dH"
   ]
  },
  {
   "cell_type": "code",
   "execution_count": 15,
   "metadata": {},
   "outputs": [
    {
     "data": {
      "text/latex": [
       "$$\\left[\\begin{matrix}υ\\\\- A \\left(- π_{1} + π_{2}\\right)\\\\0\\\\0\\end{matrix}\\right]$$"
      ],
      "text/plain": [
       "⎡      υ      ⎤\n",
       "⎢             ⎥\n",
       "⎢-A⋅(-π₁ + π₂)⎥\n",
       "⎢             ⎥\n",
       "⎢      0      ⎥\n",
       "⎢             ⎥\n",
       "⎣      0      ⎦"
      ]
     },
     "execution_count": 15,
     "metadata": {},
     "output_type": "execute_result"
    }
   ],
   "source": [
    "J @ dH"
   ]
  },
  {
   "cell_type": "code",
   "execution_count": 16,
   "metadata": {},
   "outputs": [
    {
     "data": {
      "text/latex": [
       "$$\\left[\\begin{matrix}0\\\\0\\\\- α + \\frac{α θ_{2}}{θ_{1}}\\\\\\frac{α \\left(θ_{1} - θ_{2}\\right)}{θ_{2}}\\end{matrix}\\right]$$"
      ],
      "text/plain": [
       "⎡     0     ⎤\n",
       "⎢           ⎥\n",
       "⎢     0     ⎥\n",
       "⎢           ⎥\n",
       "⎢      α⋅θ₂ ⎥\n",
       "⎢ -α + ──── ⎥\n",
       "⎢       θ₁  ⎥\n",
       "⎢           ⎥\n",
       "⎢α⋅(θ₁ - θ₂)⎥\n",
       "⎢───────────⎥\n",
       "⎣     θ₂    ⎦"
      ]
     },
     "execution_count": 16,
     "metadata": {},
     "output_type": "execute_result"
    }
   ],
   "source": [
    "C = sympy.eye(4)\n",
    "D_α = R_α / θ_0\n",
    "y_α = C.T @ dH\n",
    "u_α = -D_α @ y_α\n",
    "u_α = u_α.applyfunc(sympy.simplify)\n",
    "u_α"
   ]
  },
  {
   "cell_type": "code",
   "execution_count": 17,
   "metadata": {},
   "outputs": [
    {
     "data": {
      "text/latex": [
       "$$\\left[\\begin{matrix}0\\\\- d υ\\\\\\frac{d υ^{2}}{2 θ_{1}}\\\\\\frac{d υ^{2}}{2 θ_{2}}\\end{matrix}\\right]$$"
      ],
      "text/plain": [
       "⎡ 0  ⎤\n",
       "⎢    ⎥\n",
       "⎢-d⋅υ⎥\n",
       "⎢    ⎥\n",
       "⎢   2⎥\n",
       "⎢d⋅υ ⎥\n",
       "⎢────⎥\n",
       "⎢2⋅θ₁⎥\n",
       "⎢    ⎥\n",
       "⎢   2⎥\n",
       "⎢d⋅υ ⎥\n",
       "⎢────⎥\n",
       "⎣2⋅θ₂⎦"
      ]
     },
     "execution_count": 17,
     "metadata": {},
     "output_type": "execute_result"
    }
   ],
   "source": [
    "C = sympy.eye(4)\n",
    "D_d = R_d / θ_0\n",
    "y_d = C.T @ dH\n",
    "u_d = -D_d @ y_d\n",
    "u_d = u_d.applyfunc(sympy.simplify)\n",
    "u_d"
   ]
  },
  {
   "cell_type": "code",
   "execution_count": 18,
   "metadata": {},
   "outputs": [],
   "source": [
    "D = D_α + D_d\n",
    "assert (θ_0 * C @ D @ C.T - R).applyfunc(sympy.simplify).is_zero"
   ]
  },
  {
   "cell_type": "code",
   "execution_count": 19,
   "metadata": {},
   "outputs": [
    {
     "data": {
      "text/latex": [
       "$$\\left[\\begin{matrix}υ\\\\- A \\left(- π_{1} + π_{2}\\right) - d υ\\\\\\frac{d υ^{2}}{2 θ_{1}} - α + \\frac{α θ_{2}}{θ_{1}}\\\\\\frac{d υ^{2}}{2 θ_{2}} + \\frac{α \\left(θ_{1} - θ_{2}\\right)}{θ_{2}}\\end{matrix}\\right]$$"
      ],
      "text/plain": [
       "⎡         υ         ⎤\n",
       "⎢                   ⎥\n",
       "⎢-A⋅(-π₁ + π₂) - d⋅υ⎥\n",
       "⎢                   ⎥\n",
       "⎢     2             ⎥\n",
       "⎢  d⋅υ        α⋅θ₂  ⎥\n",
       "⎢  ──── - α + ────  ⎥\n",
       "⎢  2⋅θ₁        θ₁   ⎥\n",
       "⎢                   ⎥\n",
       "⎢   2               ⎥\n",
       "⎢d⋅υ    α⋅(θ₁ - θ₂) ⎥\n",
       "⎢──── + ─────────── ⎥\n",
       "⎣2⋅θ₂        θ₂     ⎦"
      ]
     },
     "execution_count": 19,
     "metadata": {},
     "output_type": "execute_result"
    }
   ],
   "source": [
    "(J @ dH + C @ u_α + C @ u_d)"
   ]
  },
  {
   "cell_type": "code",
   "execution_count": 20,
   "metadata": {},
   "outputs": [
    {
     "data": {
      "text/latex": [
       "$$\\left ( \\left[\\begin{matrix}0\\\\0\\\\- α + \\frac{α θ_{2}}{θ_{1}}\\\\\\frac{α \\left(θ_{1} - θ_{2}\\right)}{θ_{2}}\\end{matrix}\\right], \\quad \\left[\\begin{matrix}A \\left(- π_{1} + π_{2}\\right)\\\\υ\\\\- θ_{0} + θ_{1}\\\\- θ_{0} + θ_{2}\\end{matrix}\\right], \\quad \\frac{α \\left(θ_{1} - θ_{2}\\right) \\left(- θ_{1} \\left(θ_{0} - θ_{2}\\right) + θ_{2} \\left(θ_{0} - θ_{1}\\right)\\right)}{θ_{1} θ_{2}}\\right )$$"
      ],
      "text/plain": [
       "⎛⎡     0     ⎤                                                            ⎞\n",
       "⎜⎢           ⎥                                                            ⎟\n",
       "⎜⎢     0     ⎥  ⎡A⋅(-π₁ + π₂)⎤                                            ⎟\n",
       "⎜⎢           ⎥  ⎢            ⎥                                            ⎟\n",
       "⎜⎢      α⋅θ₂ ⎥  ⎢     υ      ⎥  α⋅(θ₁ - θ₂)⋅(-θ₁⋅(θ₀ - θ₂) + θ₂⋅(θ₀ - θ₁))⎟\n",
       "⎜⎢ -α + ──── ⎥, ⎢            ⎥, ──────────────────────────────────────────⎟\n",
       "⎜⎢       θ₁  ⎥  ⎢  -θ₀ + θ₁  ⎥                    θ₁⋅θ₂                   ⎟\n",
       "⎜⎢           ⎥  ⎢            ⎥                                            ⎟\n",
       "⎜⎢α⋅(θ₁ - θ₂)⎥  ⎣  -θ₀ + θ₂  ⎦                                            ⎟\n",
       "⎜⎢───────────⎥                                                            ⎟\n",
       "⎝⎣     θ₂    ⎦                                                            ⎠"
      ]
     },
     "execution_count": 20,
     "metadata": {},
     "output_type": "execute_result"
    }
   ],
   "source": [
    "u_α, y_α, (y_α.T @ u_α).applyfunc(sympy.simplify)[0]"
   ]
  },
  {
   "cell_type": "markdown",
   "metadata": {},
   "source": [
    "$$\n",
    "y_{\\alpha}^\\mathrm{T} \\, u_{\\alpha}\n",
    "\\: = \\:\n",
    "- \\theta_0 \\:\n",
    "\\alpha \\, \\frac{{\\left( \\theta_1 - \\theta_2 \\right)}^2}{\\theta_1 \\, \\theta_2}\n",
    "\\: = \\:\n",
    "- \\theta_0 \\:\n",
    "\\alpha \\, \\left( \\frac{\\theta_1 - \\theta_2}{\\theta_2} + \\frac{\\theta_2 - \\theta_1}{\\theta_1} \\right)\n",
    "$$"
   ]
  },
  {
   "cell_type": "code",
   "execution_count": 21,
   "metadata": {},
   "outputs": [
    {
     "data": {
      "text/latex": [
       "$$\\left ( \\left[\\begin{matrix}0\\\\- d υ\\\\\\frac{d υ^{2}}{2 θ_{1}}\\\\\\frac{d υ^{2}}{2 θ_{2}}\\end{matrix}\\right], \\quad \\left[\\begin{matrix}A \\left(- π_{1} + π_{2}\\right)\\\\υ\\\\- θ_{0} + θ_{1}\\\\- θ_{0} + θ_{2}\\end{matrix}\\right], \\quad - \\frac{d θ_{0} υ^{2} \\left(θ_{1} + θ_{2}\\right)}{2 θ_{1} θ_{2}}\\right )$$"
      ],
      "text/plain": [
       "⎛⎡ 0  ⎤                                     ⎞\n",
       "⎜⎢    ⎥                                     ⎟\n",
       "⎜⎢-d⋅υ⎥                                     ⎟\n",
       "⎜⎢    ⎥  ⎡A⋅(-π₁ + π₂)⎤                     ⎟\n",
       "⎜⎢   2⎥  ⎢            ⎥         2           ⎟\n",
       "⎜⎢d⋅υ ⎥  ⎢     υ      ⎥  -d⋅θ₀⋅υ ⋅(θ₁ + θ₂) ⎟\n",
       "⎜⎢────⎥, ⎢            ⎥, ───────────────────⎟\n",
       "⎜⎢2⋅θ₁⎥  ⎢  -θ₀ + θ₁  ⎥        2⋅θ₁⋅θ₂      ⎟\n",
       "⎜⎢    ⎥  ⎢            ⎥                     ⎟\n",
       "⎜⎢   2⎥  ⎣  -θ₀ + θ₂  ⎦                     ⎟\n",
       "⎜⎢d⋅υ ⎥                                     ⎟\n",
       "⎜⎢────⎥                                     ⎟\n",
       "⎝⎣2⋅θ₂⎦                                     ⎠"
      ]
     },
     "execution_count": 21,
     "metadata": {},
     "output_type": "execute_result"
    }
   ],
   "source": [
    "u_d, y_d, (y_d.T @ u_d).applyfunc(sympy.simplify)[0]"
   ]
  },
  {
   "cell_type": "markdown",
   "metadata": {},
   "source": [
    "$$\n",
    "y_{d}^\\mathrm{T} \\, u_{d}\n",
    "\\: = \\:\n",
    "- \\theta_0 \\:\n",
    "\\frac{d \\, \\upsilon^2}{2} \\, \\frac{\\theta_1 + \\theta_2}{\\theta_1 \\, \\theta_2}\n",
    "\\: = \\:\n",
    "- \\theta_0 \\:\n",
    "\\frac{d \\, \\upsilon^2}{2} \\, \\left( \\frac{1}{\\theta_1} + \\frac{1}{\\theta_2} \\right)\n",
    "$$"
   ]
  },
  {
   "cell_type": "markdown",
   "metadata": {},
   "source": [
    "## Port-Hamiltonian reformulation 2"
   ]
  },
  {
   "cell_type": "code",
   "execution_count": 22,
   "metadata": {},
   "outputs": [],
   "source": [
    "f_6 = θ_1 - θ_0\n",
    "f_9 = θ_2 - θ_0\n",
    "e_6 = 1/(θ_0 + f_6) * α * (f_9 - f_6)\n",
    "e_9 = 1/(θ_0 + f_9) * α * (f_6 - f_9)"
   ]
  },
  {
   "cell_type": "code",
   "execution_count": 23,
   "metadata": {},
   "outputs": [
    {
     "data": {
      "image/png": "[encoded data removed]",
      "text/latex": [
       "$$\\frac{α \\left(- θ_{0} + θ_{2}\\right) \\left(θ_{1} - θ_{2}\\right)}{θ_{2}} + \\frac{α \\left(- θ_{0} + θ_{1}\\right) \\left(- θ_{1} + θ_{2}\\right)}{θ_{1}}$$"
      ],
      "text/plain": [
       "α⋅(-θ₀ + θ₂)⋅(θ₁ - θ₂)   α⋅(-θ₀ + θ₁)⋅(-θ₁ + θ₂)\n",
       "────────────────────── + ───────────────────────\n",
       "          θ₂                        θ₁          "
      ]
     },
     "execution_count": 23,
     "metadata": {},
     "output_type": "execute_result"
    }
   ],
   "source": [
    "(e_6*f_6 + e_9*f_9)\n",
    "# this is always negative\n",
    "# net outflow is negative == net inflow is positive == exergy destruction rate is postive"
   ]
  },
  {
   "cell_type": "code",
   "execution_count": 24,
   "metadata": {},
   "outputs": [],
   "source": [
    "f_4 = υ\n",
    "f_7 = θ_1 - θ_0\n",
    "f_10 = θ_2 - θ_0\n",
    "e_4 = -d * f_4\n",
    "e_7 = 1/(θ_0 + f_7) * sympy.Rational(1,2) * d * f_4**2\n",
    "e_10 = 1/(θ_0 + f_10) * sympy.Rational(1,2) * d * f_4**2"
   ]
  },
  {
   "cell_type": "code",
   "execution_count": 25,
   "metadata": {},
   "outputs": [
    {
     "data": {
      "image/png": "[encoded data removed]",
      "text/latex": [
       "$$- d υ^{2} + \\frac{d υ^{2} \\left(- θ_{0} + θ_{2}\\right)}{2 θ_{2}} + \\frac{d υ^{2} \\left(- θ_{0} + θ_{1}\\right)}{2 θ_{1}}$$"
      ],
      "text/plain": [
       "            2                 2           \n",
       "     2   d⋅υ ⋅(-θ₀ + θ₂)   d⋅υ ⋅(-θ₀ + θ₁)\n",
       "- d⋅υ  + ─────────────── + ───────────────\n",
       "               2⋅θ₂              2⋅θ₁     "
      ]
     },
     "execution_count": 25,
     "metadata": {},
     "output_type": "execute_result"
    }
   ],
   "source": [
    "(e_4*f_4 + e_7*f_7 + e_10*f_10)"
   ]
  }
 ],
 "metadata": {
  "kernelspec": {
   "display_name": "Python 3",
   "language": "python",
   "name": "python3"
  },
  "language_info": {
   "codemirror_mode": {
    "name": "ipython",
    "version": 3
   },
   "file_extension": ".py",
   "mimetype": "text/x-python",
   "name": "python",
   "nbconvert_exporter": "python",
   "pygments_lexer": "ipython3",
   "version": "3.7.3"
  }
 },
 "nbformat": 4,
 "nbformat_minor": 4
}
