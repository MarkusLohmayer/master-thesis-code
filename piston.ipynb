{
 "cells": [
  {
   "cell_type": "markdown",
   "metadata": {},
   "source": [
    "$$\n",
    "\t\t\\begin{bmatrix}\n",
    "\t\t\t\\dot{q} \\\\\n",
    "\t\t\t\\dot{p} \\\\\n",
    "\t\t\t\\dot{S}_1 \\\\\n",
    "\t\t\t\\dot{S}_2\n",
    "\t\t\\end{bmatrix}\n",
    "\t\t\\: = \\:\n",
    "\t\t\\begin{bmatrix}\n",
    "\t\t\t0 && 1 && 0 && 0 \\\\\n",
    "\t\t\t-1 && 0 && 0 && 0 \\\\\n",
    "\t\t\t0 && 0 && 0 && 0 \\\\\n",
    "\t\t\t0 && 0 && 0 && 0 \\\\\n",
    "\t\t\\end{bmatrix}\n",
    "\t\t\\,\n",
    "\t\t\\begin{bmatrix}\n",
    "\t\t\t\\left(p_2 - p_1\\right) A \\\\\n",
    "\t\t\tv \\\\\n",
    "\t\t\tT_1 \\\\\n",
    "\t\t\tT_2\n",
    "\t\t\\end{bmatrix}\n",
    "\t\t\\: + \\:\n",
    "\t\t\\begin{bmatrix}\n",
    "\t\t\t0 && 0 && 0 && 0 \\\\\n",
    "\t\t\t0 && 0 && 0 && 0 \\\\\n",
    "\t\t\t0 && 0 && \\alpha \\, \\frac{T_2}{T_1} && -\\alpha \\\\\n",
    "\t\t\t0 && 0 && -\\alpha && \\alpha \\, \\frac{T_1}{T_2}\n",
    "\t\t\\end{bmatrix}\n",
    "\t\t\\,\n",
    "\t\t\\begin{bmatrix}\n",
    "\t\t\t0 \\\\ 0 \\\\ 1 \\\\ 1\n",
    "\t\t\\end{bmatrix}\n",
    "$$"
   ]
  },
  {
   "cell_type": "code",
   "execution_count": 72,
   "metadata": {},
   "outputs": [],
   "source": [
    "import sympy\n",
    "sympy.init_printing()\n",
    "T_1 = sympy.Symbol('T_1', positive = True, real = True)\n",
    "T_2 = sympy.Symbol('T_2', positive = True, real = True)\n",
    "p_1 = sympy.Symbol('p_1', positive = True, real = True)\n",
    "p_2 = sympy.Symbol('p_2', positive = True, real = True)\n",
    "A = sympy.Symbol('A', positive = True, real = True)\n",
    "v = sympy.Symbol('v')\n",
    "T_0 = sympy.Symbol('T_0', positive = True, real = True)\n",
    "α = sympy.Symbol('α', positive = True, real = True)"
   ]
  },
  {
   "cell_type": "code",
   "execution_count": 74,
   "metadata": {},
   "outputs": [],
   "source": [
    "dE = sympy.Matrix([\n",
    "    [(p_2 - p_1) * A],\n",
    "    [v],\n",
    "    [T_1],\n",
    "    [T_2]\n",
    "])"
   ]
  },
  {
   "cell_type": "code",
   "execution_count": 75,
   "metadata": {},
   "outputs": [],
   "source": [
    "dS = sympy.Matrix([\n",
    "    [0],\n",
    "    [0],\n",
    "    [1],\n",
    "    [1]\n",
    "])"
   ]
  },
  {
   "cell_type": "code",
   "execution_count": 73,
   "metadata": {},
   "outputs": [],
   "source": [
    "J = sympy.Matrix([\n",
    "    [0, 1, 0, 0],\n",
    "    [-1, 0, 0, 0],\n",
    "    [0, 0, 0, 0],\n",
    "    [0, 0, 0, 0]\n",
    "])"
   ]
  },
  {
   "cell_type": "code",
   "execution_count": 76,
   "metadata": {},
   "outputs": [],
   "source": [
    "R = sympy.Matrix([\n",
    "    [0, 0, 0, 0],\n",
    "    [0, 0, 0, 0],\n",
    "    [0, 0, α * T_2 / T_1, -α],\n",
    "    [0, 0, -α, α * T_1 / T_2]\n",
    "])"
   ]
  },
  {
   "cell_type": "code",
   "execution_count": 100,
   "metadata": {},
   "outputs": [
    {
     "data": {
      "image/png": "[encoded data removed]",
      "text/latex": [
       "$$\\left[\\begin{matrix}0\\\\0\\\\0\\\\0\\end{matrix}\\right]$$"
      ],
      "text/plain": [
       "⎡0⎤\n",
       "⎢ ⎥\n",
       "⎢0⎥\n",
       "⎢ ⎥\n",
       "⎢0⎥\n",
       "⎢ ⎥\n",
       "⎣0⎦"
      ]
     },
     "execution_count": 100,
     "metadata": {},
     "output_type": "execute_result"
    }
   ],
   "source": [
    "J @ dS"
   ]
  },
  {
   "cell_type": "code",
   "execution_count": 101,
   "metadata": {},
   "outputs": [
    {
     "data": {
      "image/png": "[encoded data removed]",
      "text/latex": [
       "$$\\left[\\begin{matrix}0\\\\0\\\\0\\\\0\\end{matrix}\\right]$$"
      ],
      "text/plain": [
       "⎡0⎤\n",
       "⎢ ⎥\n",
       "⎢0⎥\n",
       "⎢ ⎥\n",
       "⎢0⎥\n",
       "⎢ ⎥\n",
       "⎣0⎦"
      ]
     },
     "execution_count": 101,
     "metadata": {},
     "output_type": "execute_result"
    }
   ],
   "source": [
    "R @ dE"
   ]
  },
  {
   "cell_type": "code",
   "execution_count": 116,
   "metadata": {},
   "outputs": [
    {
     "data": {
      "text/latex": [
       "$$\\left[\\begin{matrix}v\\\\A \\left(p_{1} - p_{2}\\right)\\\\\\frac{α \\left(- T_{1} + T_{2}\\right)}{T_{1}}\\\\\\frac{α \\left(T_{1} - T_{2}\\right)}{T_{2}}\\end{matrix}\\right]$$"
      ],
      "text/plain": [
       "⎡     v      ⎤\n",
       "⎢            ⎥\n",
       "⎢A⋅(p₁ - p₂) ⎥\n",
       "⎢            ⎥\n",
       "⎢α⋅(-T₁ + T₂)⎥\n",
       "⎢────────────⎥\n",
       "⎢     T₁     ⎥\n",
       "⎢            ⎥\n",
       "⎢α⋅(T₁ - T₂) ⎥\n",
       "⎢─────────── ⎥\n",
       "⎣     T₂     ⎦"
      ]
     },
     "execution_count": 116,
     "metadata": {},
     "output_type": "execute_result"
    }
   ],
   "source": [
    "(J @ dE + R @ dS).applyfunc(sympy.simplify)"
   ]
  },
  {
   "cell_type": "code",
   "execution_count": 129,
   "metadata": {},
   "outputs": [],
   "source": [
    "D = sympy.diag(0, 0, α / T_0, α / T_0)"
   ]
  },
  {
   "cell_type": "code",
   "execution_count": 144,
   "metadata": {},
   "outputs": [],
   "source": [
    "C = sympy.Matrix([\n",
    "    [0, 0, 0, 0],\n",
    "    [0, 0, 0, 0],\n",
    "    [0, 0, -sympy.sqrt(T_2 / T_1), 0],\n",
    "    [0, 0, +sympy.sqrt(T_1 / T_2), 0]\n",
    "])"
   ]
  },
  {
   "cell_type": "code",
   "execution_count": 146,
   "metadata": {},
   "outputs": [],
   "source": [
    "C = sympy.Matrix([\n",
    "    [0, 0, 0, 0],\n",
    "    [0, 0, 0, 0],\n",
    "    [0, 0, 0, +sympy.sqrt(T_2 / T_1)],\n",
    "    [0, 0, 0, -sympy.sqrt(T_1 / T_2)]\n",
    "])"
   ]
  },
  {
   "cell_type": "code",
   "execution_count": 131,
   "metadata": {},
   "outputs": [
    {
     "data": {
      "image/png": "[encoded data removed]",
      "text/latex": [
       "$$\\left[\\begin{matrix}0 & 0 & 0 & 0\\\\0 & 0 & 0 & 0\\\\0 & 0 & 0 & 0\\\\0 & 0 & 0 & 0\\end{matrix}\\right]$$"
      ],
      "text/plain": [
       "⎡0  0  0  0⎤\n",
       "⎢          ⎥\n",
       "⎢0  0  0  0⎥\n",
       "⎢          ⎥\n",
       "⎢0  0  0  0⎥\n",
       "⎢          ⎥\n",
       "⎣0  0  0  0⎦"
      ]
     },
     "execution_count": 131,
     "metadata": {},
     "output_type": "execute_result"
    }
   ],
   "source": [
    "(C @ D @ C.T - 1 / T_0 * R).applyfunc(sympy.simplify)"
   ]
  },
  {
   "cell_type": "code",
   "execution_count": 147,
   "metadata": {},
   "outputs": [
    {
     "data": {
      "image/png": "[encoded data removed]",
      "text/latex": [
       "$$\\left[\\begin{matrix}0\\\\0\\\\0\\\\0\\end{matrix}\\right]$$"
      ],
      "text/plain": [
       "⎡0⎤\n",
       "⎢ ⎥\n",
       "⎢0⎥\n",
       "⎢ ⎥\n",
       "⎢0⎥\n",
       "⎢ ⎥\n",
       "⎣0⎦"
      ]
     },
     "execution_count": 147,
     "metadata": {},
     "output_type": "execute_result"
    }
   ],
   "source": [
    "C.T @ dE"
   ]
  },
  {
   "cell_type": "code",
   "execution_count": 148,
   "metadata": {},
   "outputs": [
    {
     "data": {
      "image/png": "[encoded data removed]",
      "text/latex": [
       "$$\\left[\\begin{matrix}A \\left(- p_{1} + p_{2}\\right)\\\\v\\\\- T_{0} + T_{1}\\\\- T_{0} + T_{2}\\end{matrix}\\right]$$"
      ],
      "text/plain": [
       "⎡A⋅(-p₁ + p₂)⎤\n",
       "⎢            ⎥\n",
       "⎢     v      ⎥\n",
       "⎢            ⎥\n",
       "⎢  -T₀ + T₁  ⎥\n",
       "⎢            ⎥\n",
       "⎣  -T₀ + T₂  ⎦"
      ]
     },
     "execution_count": 148,
     "metadata": {},
     "output_type": "execute_result"
    }
   ],
   "source": [
    "dH = dE - T_0 * dS\n",
    "dH"
   ]
  },
  {
   "cell_type": "code",
   "execution_count": 158,
   "metadata": {},
   "outputs": [
    {
     "data": {
      "image/png": "[encoded data removed]",
      "text/latex": [
       "$$\\left[\\begin{matrix}0\\\\0\\\\0\\\\- \\frac{T_{0} \\left(T_{1} - T_{2}\\right)}{\\sqrt{T_{1}} \\sqrt{T_{2}}}\\end{matrix}\\right]$$"
      ],
      "text/plain": [
       "⎡      0       ⎤\n",
       "⎢              ⎥\n",
       "⎢      0       ⎥\n",
       "⎢              ⎥\n",
       "⎢      0       ⎥\n",
       "⎢              ⎥\n",
       "⎢-T₀⋅(T₁ - T₂) ⎥\n",
       "⎢──────────────⎥\n",
       "⎢  ____   ____ ⎥\n",
       "⎣╲╱ T₁ ⋅╲╱ T₂  ⎦"
      ]
     },
     "execution_count": 158,
     "metadata": {},
     "output_type": "execute_result"
    }
   ],
   "source": [
    "Force = (- C.T @ dH).applyfunc(sympy.simplify)\n",
    "Force"
   ]
  },
  {
   "cell_type": "code",
   "execution_count": 161,
   "metadata": {},
   "outputs": [
    {
     "data": {
      "text/latex": [
       "$$\\left[\\begin{matrix}0\\\\0\\\\0\\\\- \\frac{α \\left(T_{1} - T_{2}\\right)}{\\sqrt{T_{1}} \\sqrt{T_{2}}}\\end{matrix}\\right]$$"
      ],
      "text/plain": [
       "⎡      0      ⎤\n",
       "⎢             ⎥\n",
       "⎢      0      ⎥\n",
       "⎢             ⎥\n",
       "⎢      0      ⎥\n",
       "⎢             ⎥\n",
       "⎢-α⋅(T₁ - T₂) ⎥\n",
       "⎢─────────────⎥\n",
       "⎢  ____   ____⎥\n",
       "⎣╲╱ T₁ ⋅╲╱ T₂ ⎦"
      ]
     },
     "execution_count": 161,
     "metadata": {},
     "output_type": "execute_result"
    }
   ],
   "source": [
    "Flux = D @ Force\n",
    "Flux"
   ]
  },
  {
   "cell_type": "code",
   "execution_count": 162,
   "metadata": {},
   "outputs": [
    {
     "data": {
      "text/latex": [
       "$$\\left[\\begin{matrix}0\\\\0\\\\- α + \\frac{T_{2} α}{T_{1}}\\\\\\frac{α \\left(T_{1} - T_{2}\\right)}{T_{2}}\\end{matrix}\\right]$$"
      ],
      "text/plain": [
       "⎡     0     ⎤\n",
       "⎢           ⎥\n",
       "⎢     0     ⎥\n",
       "⎢           ⎥\n",
       "⎢      T₂⋅α ⎥\n",
       "⎢ -α + ──── ⎥\n",
       "⎢       T₁  ⎥\n",
       "⎢           ⎥\n",
       "⎢α⋅(T₁ - T₂)⎥\n",
       "⎢───────────⎥\n",
       "⎣     T₂    ⎦"
      ]
     },
     "execution_count": 162,
     "metadata": {},
     "output_type": "execute_result"
    }
   ],
   "source": [
    "(C @ Flux).applyfunc(sympy.simplify)"
   ]
  },
  {
   "cell_type": "code",
   "execution_count": 170,
   "metadata": {},
   "outputs": [
    {
     "data": {
      "image/png": "[encoded data removed]",
      "text/latex": [
       "$$\\left[\\begin{matrix}0 & 1 & 0 & 0 & 0 & 0 & 0 & 0\\\\-1 & 0 & 0 & 0 & 0 & 0 & 0 & 0\\\\0 & 0 & 0 & 0 & 0 & 0 & 0 & \\frac{\\sqrt{T_{2}}}{\\sqrt{T_{1}}}\\\\0 & 0 & 0 & 0 & 0 & 0 & 0 & - \\frac{\\sqrt{T_{1}}}{\\sqrt{T_{2}}}\\\\0 & 0 & 0 & 0 & 0 & 0 & 0 & 0\\\\0 & 0 & 0 & 0 & 0 & 0 & 0 & 0\\\\0 & 0 & 0 & 0 & 0 & 0 & 0 & 0\\\\0 & 0 & - \\frac{\\sqrt{T_{2}}}{\\sqrt{T_{1}}} & \\frac{\\sqrt{T_{1}}}{\\sqrt{T_{2}}} & 0 & 0 & 0 & 0\\end{matrix}\\right]$$"
      ],
      "text/plain": [
       "⎡0   1     0        0     0  0  0     0    ⎤\n",
       "⎢                                          ⎥\n",
       "⎢-1  0     0        0     0  0  0     0    ⎥\n",
       "⎢                                          ⎥\n",
       "⎢                                     ____ ⎥\n",
       "⎢                                   ╲╱ T₂  ⎥\n",
       "⎢0   0     0        0     0  0  0   ────── ⎥\n",
       "⎢                                     ____ ⎥\n",
       "⎢                                   ╲╱ T₁  ⎥\n",
       "⎢                                          ⎥\n",
       "⎢                                     ____ ⎥\n",
       "⎢                                  -╲╱ T₁  ⎥\n",
       "⎢0   0     0        0     0  0  0  ────────⎥\n",
       "⎢                                     ____ ⎥\n",
       "⎢                                   ╲╱ T₂  ⎥\n",
       "⎢                                          ⎥\n",
       "⎢0   0     0        0     0  0  0     0    ⎥\n",
       "⎢                                          ⎥\n",
       "⎢0   0     0        0     0  0  0     0    ⎥\n",
       "⎢                                          ⎥\n",
       "⎢0   0     0        0     0  0  0     0    ⎥\n",
       "⎢                                          ⎥\n",
       "⎢          ____     ____                   ⎥\n",
       "⎢       -╲╱ T₂    ╲╱ T₁                    ⎥\n",
       "⎢0   0  ────────  ──────  0  0  0     0    ⎥\n",
       "⎢          ____     ____                   ⎥\n",
       "⎣        ╲╱ T₁    ╲╱ T₂                    ⎦"
      ]
     },
     "execution_count": 170,
     "metadata": {},
     "output_type": "execute_result"
    }
   ],
   "source": [
    "sympy.Matrix(sympy.BlockMatrix([\n",
    "    [J, C],\n",
    "    [-C.T, sympy.zeros(4,4)]\n",
    "]))"
   ]
  },
  {
   "cell_type": "markdown",
   "metadata": {},
   "source": [
    "$$\n",
    "\\begin{bmatrix}\n",
    "    \\dot{x} \\\\\n",
    "    \\delta\n",
    "\\end{bmatrix}\n",
    "\\: = \\:\n",
    "\\begin{bmatrix}\n",
    "    J && C(\\frac{\\partial H}{\\partial x}) \\\\\n",
    "    -C^\\mathrm{T}(\\frac{\\partial H}{\\partial x}) && 0\n",
    "\\end{bmatrix}\n",
    "\\,\n",
    "\\begin{bmatrix}\n",
    "    \\frac{\\partial H}{\\partial x} \\\\\n",
    "    \\phi\n",
    "\\end{bmatrix}\n",
    "$$\n",
    "\n",
    "$$\n",
    "\\phi \\: = \\: D \\, \\delta\n",
    "$$"
   ]
  },
  {
   "cell_type": "code",
   "execution_count": null,
   "metadata": {},
   "outputs": [],
   "source": []
  }
 ],
 "metadata": {
  "kernelspec": {
   "display_name": "Python 3",
   "language": "python",
   "name": "python3"
  },
  "language_info": {
   "codemirror_mode": {
    "name": "ipython",
    "version": 3
   },
   "file_extension": ".py",
   "mimetype": "text/x-python",
   "name": "python",
   "nbconvert_exporter": "python",
   "pygments_lexer": "ipython3",
   "version": "3.7.3"
  }
 },
 "nbformat": 4,
 "nbformat_minor": 4
}
