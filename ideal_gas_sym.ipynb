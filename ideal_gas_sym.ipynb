{
 "cells": [
  {
   "cell_type": "code",
   "execution_count": 7,
   "metadata": {},
   "outputs": [],
   "source": [
    "import sympy\n",
    "sympy.init_printing()"
   ]
  },
  {
   "cell_type": "code",
   "execution_count": 8,
   "metadata": {},
   "outputs": [],
   "source": [
    "import sys\n",
    "sys.path.insert(0, './code')\n",
    "\n",
    "from symbolic import eval_expr\n",
    "\n",
    "import ideal_gas_lumped as gas"
   ]
  },
  {
   "cell_type": "code",
   "execution_count": 27,
   "metadata": {},
   "outputs": [],
   "source": [
    "tmp = {\n",
    "    gas.m_atom: gas.m_Ar,\n",
    "    gas.C_2: gas.params[gas.C_2]\n",
    "}"
   ]
  },
  {
   "cell_type": "code",
   "execution_count": 22,
   "metadata": {},
   "outputs": [],
   "source": [
    "state = {\n",
    "    gas.M: 1e-3,\n",
    "    gas.N: gas.M / gas.m_atom,\n",
    "    gas.S: 1e-3,\n",
    "    gas.V: 1e-3,\n",
    "}"
   ]
  },
  {
   "cell_type": "code",
   "execution_count": 23,
   "metadata": {},
   "outputs": [
    {
     "data": {
      "image/png": "[encoded data removed]",
      "text/latex": [
       "$$\\frac{C_{2} M^{\\frac{5}{3}} e^{\\frac{2 S m_{Ar}}{3 M k_{B}}}}{V^{\\frac{2}{3}}}$$"
      ],
      "text/plain": [
       "         2⋅S⋅m_Ar\n",
       "         ────────\n",
       "    5/3  3⋅M⋅k_B \n",
       "C₂⋅M   ⋅ℯ        \n",
       "─────────────────\n",
       "        2/3      \n",
       "       V         "
      ]
     },
     "execution_count": 23,
     "metadata": {},
     "output_type": "execute_result"
    }
   ],
   "source": [
    "# U(S, V, M)\n",
    "U = eval_expr(gas.U, functionals={**gas.functionals, **tmp})\n",
    "U"
   ]
  },
  {
   "cell_type": "code",
   "execution_count": 28,
   "metadata": {},
   "outputs": [
    {
     "data": {
      "image/png": "[encoded data removed]",
      "text/latex": [
       "$$\\frac{3 M^{\\frac{5}{3}} h^{2} e^{\\frac{2 S m_{Ar}}{3 M k_{B}}}}{4 \\pi V^{\\frac{2}{3}} m_{Ar}^{\\frac{8}{3}} e^{\\frac{5}{3}}}$$"
      ],
      "text/plain": [
       "                 2⋅S⋅m_Ar\n",
       "                 ────────\n",
       "   5/3  2  -5/3  3⋅M⋅k_B \n",
       "3⋅M   ⋅h ⋅ℯ    ⋅ℯ        \n",
       "─────────────────────────\n",
       "          2/3     8/3    \n",
       "     4⋅π⋅V   ⋅m_Ar       "
      ]
     },
     "execution_count": 28,
     "metadata": {},
     "output_type": "execute_result"
    }
   ],
   "source": [
    "# U(S, V, M)\n",
    "U = eval_expr(gas.U, functionals={**gas.functionals, **tmp})\n",
    "U"
   ]
  },
  {
   "cell_type": "code",
   "execution_count": 3,
   "metadata": {},
   "outputs": [
    {
     "data": {
      "image/png": "[encoded data removed]",
      "text/latex": [
       "$$\\frac{3 M^{\\frac{5}{3}} h^{2} e^{\\frac{2 S m_{atom}}{3 M k_{B}}}}{4 \\pi V^{\\frac{2}{3}} m_{atom}^{\\frac{8}{3}} e^{\\frac{5}{3}}}$$"
      ],
      "text/plain": [
       "                 2⋅S⋅mₐₜₒₘ\n",
       "                 ─────────\n",
       "   5/3  2  -5/3   3⋅M⋅k_B \n",
       "3⋅M   ⋅h ⋅ℯ    ⋅ℯ         \n",
       "──────────────────────────\n",
       "         2/3      8/3     \n",
       "    4⋅π⋅V   ⋅mₐₜₒₘ        "
      ]
     },
     "execution_count": 3,
     "metadata": {},
     "output_type": "execute_result"
    }
   ],
   "source": [
    "# U(S, V, M)\n",
    "U = eval_expr(gas.U, functionals=gas.functionals)\n",
    "U"
   ]
  },
  {
   "cell_type": "code",
   "execution_count": 24,
   "metadata": {},
   "outputs": [
    {
     "data": {
      "image/png": "[encoded data removed]",
      "text/latex": [
       "$$\\frac{2 C_{2} M^{\\frac{2}{3}} m_{Ar} e^{\\frac{2 S m_{Ar}}{3 M k_{B}}}}{3 V^{\\frac{2}{3}} k_{B}}$$"
      ],
      "text/plain": [
       "                2⋅S⋅m_Ar\n",
       "                ────────\n",
       "      2/3       3⋅M⋅k_B \n",
       "2⋅C₂⋅M   ⋅m_Ar⋅ℯ        \n",
       "────────────────────────\n",
       "          2/3           \n",
       "       3⋅V   ⋅k_B       "
      ]
     },
     "execution_count": 24,
     "metadata": {},
     "output_type": "execute_result"
    }
   ],
   "source": [
    "T = eval_expr(U.diff(gas.S), functionals={**gas.functionals, **tmp}).simplify()\n",
    "T"
   ]
  },
  {
   "cell_type": "code",
   "execution_count": 29,
   "metadata": {},
   "outputs": [
    {
     "data": {
      "image/png": "[encoded data removed]",
      "text/latex": [
       "$$\\frac{M^{\\frac{2}{3}} h^{2} e^{- \\frac{5}{3} + \\frac{2 S m_{Ar}}{3 M k_{B}}}}{2 \\pi V^{\\frac{2}{3}} k_{B} m_{Ar}^{\\frac{5}{3}}}$$"
      ],
      "text/plain": [
       "           5   2⋅S⋅m_Ar\n",
       "         - ─ + ────────\n",
       " 2/3  2    3   3⋅M⋅k_B \n",
       "M   ⋅h ⋅ℯ              \n",
       "───────────────────────\n",
       "       2/3         5/3 \n",
       "  2⋅π⋅V   ⋅k_B⋅m_Ar    "
      ]
     },
     "execution_count": 29,
     "metadata": {},
     "output_type": "execute_result"
    }
   ],
   "source": [
    "T = eval_expr(U.diff(gas.S), functionals={**gas.functionals, **tmp}).simplify()\n",
    "T"
   ]
  },
  {
   "cell_type": "code",
   "execution_count": 4,
   "metadata": {},
   "outputs": [
    {
     "data": {
      "image/png": "[encoded data removed]",
      "text/latex": [
       "$$\\frac{M^{\\frac{5}{3}} h^{2} e^{\\frac{2 S m_{atom}}{3 M k_{B}}}}{2 \\pi V^{\\frac{5}{3}} m_{atom}^{\\frac{8}{3}} e^{\\frac{5}{3}}}$$"
      ],
      "text/plain": [
       "               2⋅S⋅mₐₜₒₘ\n",
       "               ─────────\n",
       " 5/3  2  -5/3   3⋅M⋅k_B \n",
       "M   ⋅h ⋅ℯ    ⋅ℯ         \n",
       "────────────────────────\n",
       "        5/3      8/3    \n",
       "   2⋅π⋅V   ⋅mₐₜₒₘ       "
      ]
     },
     "execution_count": 4,
     "metadata": {},
     "output_type": "execute_result"
    }
   ],
   "source": [
    "T = eval_expr(gas.T, functionals=gas.functionals)\n",
    "T"
   ]
  },
  {
   "cell_type": "code",
   "execution_count": 25,
   "metadata": {},
   "outputs": [
    {
     "data": {
      "image/png": "[encoded data removed]",
      "text/latex": [
       "$$\\frac{2 C_{2} M^{\\frac{5}{3}} e^{\\frac{2 S m_{Ar}}{3 M k_{B}}}}{3 V^{\\frac{5}{3}}}$$"
      ],
      "text/plain": [
       "           2⋅S⋅m_Ar\n",
       "           ────────\n",
       "      5/3  3⋅M⋅k_B \n",
       "2⋅C₂⋅M   ⋅ℯ        \n",
       "───────────────────\n",
       "          5/3      \n",
       "       3⋅V         "
      ]
     },
     "execution_count": 25,
     "metadata": {},
     "output_type": "execute_result"
    }
   ],
   "source": [
    "p = eval_expr(-U.diff(gas.V), functionals={**gas.functionals, **tmp}).simplify()\n",
    "p"
   ]
  },
  {
   "cell_type": "code",
   "execution_count": 30,
   "metadata": {},
   "outputs": [
    {
     "data": {
      "image/png": "[encoded data removed]",
      "text/latex": [
       "$$\\frac{M^{\\frac{5}{3}} h^{2} e^{- \\frac{5}{3} + \\frac{2 S m_{Ar}}{3 M k_{B}}}}{2 \\pi V^{\\frac{5}{3}} m_{Ar}^{\\frac{8}{3}}}$$"
      ],
      "text/plain": [
       "           5   2⋅S⋅m_Ar\n",
       "         - ─ + ────────\n",
       " 5/3  2    3   3⋅M⋅k_B \n",
       "M   ⋅h ⋅ℯ              \n",
       "───────────────────────\n",
       "         5/3     8/3   \n",
       "    2⋅π⋅V   ⋅m_Ar      "
      ]
     },
     "execution_count": 30,
     "metadata": {},
     "output_type": "execute_result"
    }
   ],
   "source": [
    "p = eval_expr(-U.diff(gas.V), functionals={**gas.functionals, **tmp}).simplify()\n",
    "p"
   ]
  },
  {
   "cell_type": "code",
   "execution_count": 5,
   "metadata": {},
   "outputs": [
    {
     "data": {
      "image/png": "[encoded data removed]",
      "text/latex": [
       "$$p$$"
      ],
      "text/plain": [
       "p"
      ]
     },
     "execution_count": 5,
     "metadata": {},
     "output_type": "execute_result"
    }
   ],
   "source": [
    "p = eval_expr(gas.p, functionals=gas.functionals)\n",
    "p"
   ]
  },
  {
   "cell_type": "code",
   "execution_count": 26,
   "metadata": {},
   "outputs": [
    {
     "data": {
      "image/png": "[encoded data removed]",
      "text/latex": [
       "$$\\frac{C_{2} \\left(5 M k_{B} - 2 S m_{Ar}\\right) e^{\\frac{2 S m_{Ar}}{3 M k_{B}}}}{3 \\sqrt[3]{M} V^{\\frac{2}{3}} k_{B}}$$"
      ],
      "text/plain": [
       "                         2⋅S⋅m_Ar\n",
       "                         ────────\n",
       "                         3⋅M⋅k_B \n",
       "C₂⋅(5⋅M⋅k_B - 2⋅S⋅m_Ar)⋅ℯ        \n",
       "─────────────────────────────────\n",
       "           3 ___  2/3            \n",
       "         3⋅╲╱ M ⋅V   ⋅k_B        "
      ]
     },
     "execution_count": 26,
     "metadata": {},
     "output_type": "execute_result"
    }
   ],
   "source": [
    "mu = eval_expr(U.diff(gas.M), functionals={**gas.functionals, **tmp}).simplify()\n",
    "mu"
   ]
  },
  {
   "cell_type": "code",
   "execution_count": 31,
   "metadata": {},
   "outputs": [
    {
     "data": {
      "image/png": "[encoded data removed]",
      "text/latex": [
       "$$\\frac{h^{2} \\left(5 M k_{B} - 2 S m_{Ar}\\right) e^{- \\frac{5}{3} + \\frac{2 S m_{Ar}}{3 M k_{B}}}}{4 \\pi \\sqrt[3]{M} V^{\\frac{2}{3}} k_{B} m_{Ar}^{\\frac{8}{3}}}$$"
      ],
      "text/plain": [
       "                           5   2⋅S⋅m_Ar\n",
       "                         - ─ + ────────\n",
       " 2                         3   3⋅M⋅k_B \n",
       "h ⋅(5⋅M⋅k_B - 2⋅S⋅m_Ar)⋅ℯ              \n",
       "───────────────────────────────────────\n",
       "           3 ___  2/3         8/3      \n",
       "       4⋅π⋅╲╱ M ⋅V   ⋅k_B⋅m_Ar         "
      ]
     },
     "execution_count": 31,
     "metadata": {},
     "output_type": "execute_result"
    }
   ],
   "source": [
    "mu = eval_expr(U.diff(gas.M), functionals={**gas.functionals, **tmp}).simplify()\n",
    "mu"
   ]
  },
  {
   "cell_type": "code",
   "execution_count": 6,
   "metadata": {},
   "outputs": [
    {
     "data": {
      "image/png": "[encoded data removed]",
      "text/latex": [
       "$$\\frac{h^{2} \\left(5 M k_{B} - 2 S m_{atom}\\right) e^{\\frac{2 S m_{atom}}{3 M k_{B}}}}{4 \\pi \\sqrt[3]{M} V^{\\frac{2}{3}} k_{B} m_{atom}^{\\frac{8}{3}} e^{\\frac{5}{3}}}$$"
      ],
      "text/plain": [
       "                                2⋅S⋅mₐₜₒₘ\n",
       "                                ─────────\n",
       " 2                        -5/3   3⋅M⋅k_B \n",
       "h ⋅(5⋅M⋅k_B - 2⋅S⋅mₐₜₒₘ)⋅ℯ    ⋅ℯ         \n",
       "─────────────────────────────────────────\n",
       "           3 ___  2/3          8/3       \n",
       "       4⋅π⋅╲╱ M ⋅V   ⋅k_B⋅mₐₜₒₘ          "
      ]
     },
     "execution_count": 6,
     "metadata": {},
     "output_type": "execute_result"
    }
   ],
   "source": [
    "mu = eval_expr(gas.mu, functionals=gas.functionals)\n",
    "mu"
   ]
  }
 ],
 "metadata": {
  "kernelspec": {
   "display_name": "Python 3",
   "language": "python",
   "name": "python3"
  },
  "language_info": {
   "codemirror_mode": {
    "name": "ipython",
    "version": 3
   },
   "file_extension": ".py",
   "mimetype": "text/x-python",
   "name": "python",
   "nbconvert_exporter": "python",
   "pygments_lexer": "ipython3",
   "version": "3.7.3"
  }
 },
 "nbformat": 4,
 "nbformat_minor": 4
}
