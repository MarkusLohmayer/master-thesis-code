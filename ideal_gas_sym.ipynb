{
 "cells": [
  {
   "cell_type": "markdown",
   "metadata": {},
   "source": [
    "## just some checks on ideal_gas_lumped.py and ideal_gas_distributed.py\n",
    "\n",
    "these two modules are used to\n",
    "insert equations (sympy expressions)\n",
    "which model an ideal gas\n",
    "into dictionnaries"
   ]
  },
  {
   "cell_type": "code",
   "execution_count": 1,
   "metadata": {},
   "outputs": [],
   "source": [
    "import sympy\n",
    "sympy.init_printing()"
   ]
  },
  {
   "cell_type": "code",
   "execution_count": 2,
   "metadata": {},
   "outputs": [],
   "source": [
    "import sys\n",
    "sys.path.insert(0, './code')\n",
    "\n",
    "from symbolic import eval_expr\n",
    "\n",
    "import ideal_gas_lumped as lgas\n",
    "import ideal_gas_distributed as dgas"
   ]
  },
  {
   "cell_type": "code",
   "execution_count": 6,
   "metadata": {},
   "outputs": [],
   "source": [
    "ltmp = {\n",
    "    lgas._m_a: lgas.m_Ar,\n",
    "}"
   ]
  },
  {
   "cell_type": "code",
   "execution_count": 7,
   "metadata": {},
   "outputs": [],
   "source": [
    "dtmp = {\n",
    "    dgas._m_a: dgas.m_Ar,\n",
    "}"
   ]
  },
  {
   "cell_type": "code",
   "execution_count": 9,
   "metadata": {},
   "outputs": [],
   "source": [
    "lstate = {\n",
    "    lgas._s: 2.3394613409617664,\n",
    "    lgas._v: 0.0003691371367968008,\n",
    "    lgas._m: 0.000605034917759643,\n",
    "}"
   ]
  },
  {
   "cell_type": "code",
   "execution_count": 10,
   "metadata": {},
   "outputs": [],
   "source": [
    "dstate = {\n",
    "    dgas._s: 2.3394613409617664 / 0.0003691371367968008,\n",
    "    dgas._m: 0.000605034917759643 / 0.0003691371367968008,\n",
    "}"
   ]
  },
  {
   "cell_type": "code",
   "execution_count": 17,
   "metadata": {},
   "outputs": [
    {
     "data": {
      "image/png": "[encoded data removed]",
      "text/latex": [
       "$$55.2735507463948$$"
      ],
      "text/plain": [
       "55.2735507463948"
      ]
     },
     "execution_count": 17,
     "metadata": {},
     "output_type": "execute_result"
    }
   ],
   "source": [
    "# U(s, v, m)\n",
    "u_lgas = eval_expr(lgas._U, {**lgas._functionals, **ltmp}, lgas.params, lstate).evalf()\n",
    "u_lgas"
   ]
  },
  {
   "cell_type": "code",
   "execution_count": 18,
   "metadata": {},
   "outputs": [
    {
     "data": {
      "image/png": "[encoded data removed]",
      "text/latex": [
       "$$55.2735507463948$$"
      ],
      "text/plain": [
       "55.2735507463948"
      ]
     },
     "execution_count": 18,
     "metadata": {},
     "output_type": "execute_result"
    }
   ],
   "source": [
    "# U(s, m)\n",
    "u_dgas = eval_expr(dgas._U, {**dgas.functionals, **dtmp}, dgas.params, dstate).evalf()\n",
    "u_dgas * 0.0003691371367968008"
   ]
  },
  {
   "cell_type": "code",
   "execution_count": 21,
   "metadata": {},
   "outputs": [
    {
     "data": {
      "image/png": "[encoded data removed]",
      "text/latex": [
       "$$\\frac{3 h^{2} m^{\\frac{5}{3}} e^{\\frac{2 m_{a} s}{3 k_{B} m}}}{4 \\pi m_{a}^{\\frac{8}{3}} e^{\\frac{5}{3}}}$$"
      ],
      "text/plain": [
       "                  2⋅mₐ⋅s\n",
       "                 ───────\n",
       "   2  5/3  -5/3  3⋅k_B⋅m\n",
       "3⋅h ⋅m   ⋅ℯ    ⋅ℯ       \n",
       "────────────────────────\n",
       "             8/3        \n",
       "       4⋅π⋅mₐ           "
      ]
     },
     "execution_count": 21,
     "metadata": {},
     "output_type": "execute_result"
    }
   ],
   "source": [
    "# U(s, m)\n",
    "u = eval_expr(dgas._U, functionals=dgas.functionals)\n",
    "u"
   ]
  },
  {
   "cell_type": "code",
   "execution_count": 22,
   "metadata": {},
   "outputs": [
    {
     "data": {
      "image/png": "[encoded data removed]",
      "text/latex": [
       "$$\\frac{h^{2} m^{\\frac{2}{3}} e^{\\frac{2 m_{a} s}{3 k_{B} m}}}{2 \\pi k_{B} m_{a}^{\\frac{5}{3}} e^{\\frac{5}{3}}}$$"
      ],
      "text/plain": [
       "                2⋅mₐ⋅s\n",
       "               ───────\n",
       " 2  2/3  -5/3  3⋅k_B⋅m\n",
       "h ⋅m   ⋅ℯ    ⋅ℯ       \n",
       "──────────────────────\n",
       "              5/3     \n",
       "    2⋅π⋅k_B⋅mₐ        "
      ]
     },
     "execution_count": 22,
     "metadata": {},
     "output_type": "execute_result"
    }
   ],
   "source": [
    "θ = eval_expr(dgas._θ, functionals=dgas.functionals)\n",
    "θ"
   ]
  },
  {
   "cell_type": "code",
   "execution_count": 23,
   "metadata": {},
   "outputs": [
    {
     "data": {
      "image/png": "[encoded data removed]",
      "text/latex": [
       "$$\\frac{h^{2} \\left(5 k_{B} m - 2 m_{a} s\\right) e^{\\frac{2 m_{a} s}{3 k_{B} m}}}{4 \\pi k_{B} \\sqrt[3]{m} m_{a}^{\\frac{8}{3}} e^{\\frac{5}{3}}}$$"
      ],
      "text/plain": [
       "                              2⋅mₐ⋅s\n",
       "                             ───────\n",
       " 2                     -5/3  3⋅k_B⋅m\n",
       "h ⋅(5⋅k_B⋅m - 2⋅mₐ⋅s)⋅ℯ    ⋅ℯ       \n",
       "────────────────────────────────────\n",
       "                3 ___   8/3         \n",
       "        4⋅π⋅k_B⋅╲╱ m ⋅mₐ            "
      ]
     },
     "execution_count": 23,
     "metadata": {},
     "output_type": "execute_result"
    }
   ],
   "source": [
    "μ = eval_expr(dgas._μ, functionals=dgas.functionals)\n",
    "μ"
   ]
  },
  {
   "cell_type": "code",
   "execution_count": 24,
   "metadata": {},
   "outputs": [
    {
     "data": {
      "image/png": "[encoded data removed]",
      "text/latex": [
       "$$\\frac{h^{2} m^{\\frac{5}{3}} e^{\\frac{2 m_{a} s}{3 k_{B} m}}}{2 \\pi m_{a}^{\\frac{8}{3}} e^{\\frac{5}{3}}}$$"
      ],
      "text/plain": [
       "                2⋅mₐ⋅s\n",
       "               ───────\n",
       " 2  5/3  -5/3  3⋅k_B⋅m\n",
       "h ⋅m   ⋅ℯ    ⋅ℯ       \n",
       "──────────────────────\n",
       "            8/3       \n",
       "      2⋅π⋅mₐ          "
      ]
     },
     "execution_count": 24,
     "metadata": {},
     "output_type": "execute_result"
    }
   ],
   "source": [
    "π = eval_expr(dgas._π, functionals=dgas.functionals)\n",
    "π"
   ]
  }
 ],
 "metadata": {
  "kernelspec": {
   "display_name": "Python 3",
   "language": "python",
   "name": "python3"
  },
  "language_info": {
   "codemirror_mode": {
    "name": "ipython",
    "version": 3
   },
   "file_extension": ".py",
   "mimetype": "text/x-python",
   "name": "python",
   "nbconvert_exporter": "python",
   "pygments_lexer": "ipython3",
   "version": "3.7.3"
  }
 },
 "nbformat": 4,
 "nbformat_minor": 4
}
