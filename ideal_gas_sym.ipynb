{
 "cells": [
  {
   "cell_type": "code",
   "execution_count": 1,
   "metadata": {},
   "outputs": [],
   "source": [
    "import sympy\n",
    "sympy.init_printing()"
   ]
  },
  {
   "cell_type": "code",
   "execution_count": 2,
   "metadata": {},
   "outputs": [],
   "source": [
    "import sys\n",
    "sys.path.insert(0, './code')\n",
    "\n",
    "from symbolic import eval_expr\n",
    "\n",
    "import ideal_gas_lumped as lgas\n",
    "import ideal_gas_distributed as dgas"
   ]
  },
  {
   "cell_type": "code",
   "execution_count": 18,
   "metadata": {},
   "outputs": [],
   "source": [
    "ltmp = {\n",
    "    lgas._m: lgas.m_Ar,\n",
    "}"
   ]
  },
  {
   "cell_type": "code",
   "execution_count": 17,
   "metadata": {},
   "outputs": [],
   "source": [
    "dtmp = {\n",
    "    dgas.m_atom: dgas.m_Ar,\n",
    "}"
   ]
  },
  {
   "cell_type": "code",
   "execution_count": 5,
   "metadata": {},
   "outputs": [],
   "source": [
    "lstate = {\n",
    "    lgas._S: 2.3394613409617664,\n",
    "    lgas._V: 0.0003691371367968008,\n",
    "    lgas._M: 0.000605034917759643,\n",
    "}"
   ]
  },
  {
   "cell_type": "code",
   "execution_count": 12,
   "metadata": {},
   "outputs": [],
   "source": [
    "dstate = {\n",
    "    dgas.s: 2.3394613409617664 / 0.0003691371367968008,\n",
    "    dgas.rho: 0.000605034917759643 / 0.0003691371367968008,\n",
    "}"
   ]
  },
  {
   "cell_type": "code",
   "execution_count": 9,
   "metadata": {},
   "outputs": [
    {
     "data": {
      "image/png": "[encoded data removed]",
      "text/latex": [
       "$$55.2735507463947$$"
      ],
      "text/plain": [
       "55.2735507463947"
      ]
     },
     "execution_count": 9,
     "metadata": {},
     "output_type": "execute_result"
    }
   ],
   "source": [
    "# U(S, V, M)\n",
    "U = eval_expr(lgas._U, {**lgas._functionals, **ltmp}, lgas.params, lstate).evalf()\n",
    "U"
   ]
  },
  {
   "cell_type": "code",
   "execution_count": 20,
   "metadata": {},
   "outputs": [
    {
     "data": {
      "image/png": "[encoded data removed]",
      "text/latex": [
       "$$55.2735507463947$$"
      ],
      "text/plain": [
       "55.2735507463947"
      ]
     },
     "execution_count": 20,
     "metadata": {},
     "output_type": "execute_result"
    }
   ],
   "source": [
    "# u(rho, s)\n",
    "u = eval_expr(dgas.u, {**dgas.functionals, **dtmp}, params=dgas.params, state=dstate).subs(dgas.m_atom, dgas.m_Ar).evalf()\n",
    "u * 0.0003691371367968008"
   ]
  },
  {
   "cell_type": "code",
   "execution_count": null,
   "metadata": {},
   "outputs": [],
   "source": []
  },
  {
   "cell_type": "code",
   "execution_count": 6,
   "metadata": {},
   "outputs": [
    {
     "data": {
      "image/png": "[encoded data removed]",
      "text/latex": [
       "$$\\frac{3 h^{2} \\rho^{\\frac{5}{3}} e^{\\frac{2 m_{atom} s}{3 k_{B} \\rho}}}{4 \\pi m_{atom}^{\\frac{8}{3}} e^{\\frac{5}{3}}}$$"
      ],
      "text/plain": [
       "                 2⋅mₐₜₒₘ⋅s\n",
       "                 ─────────\n",
       "   2  5/3  -5/3   3⋅k_B⋅ρ \n",
       "3⋅h ⋅ρ   ⋅ℯ    ⋅ℯ         \n",
       "──────────────────────────\n",
       "                8/3       \n",
       "       4⋅π⋅mₐₜₒₘ          "
      ]
     },
     "execution_count": 6,
     "metadata": {},
     "output_type": "execute_result"
    }
   ],
   "source": [
    "# u(rho, s)\n",
    "u = eval_expr(dgas.u, functionals=dgas.functionals)\n",
    "u"
   ]
  },
  {
   "cell_type": "code",
   "execution_count": 4,
   "metadata": {},
   "outputs": [
    {
     "data": {
      "image/png": "[encoded data removed]",
      "text/latex": [
       "$$\\frac{h^{2} \\rho^{\\frac{2}{3}} e^{\\frac{2 m_{atom} s}{3 k_{B} \\rho}}}{2 \\pi k_{B} m_{atom}^{\\frac{5}{3}} e^{\\frac{5}{3}}}$$"
      ],
      "text/plain": [
       "               2⋅mₐₜₒₘ⋅s\n",
       "               ─────────\n",
       " 2  2/3  -5/3   3⋅k_B⋅ρ \n",
       "h ⋅ρ   ⋅ℯ    ⋅ℯ         \n",
       "────────────────────────\n",
       "                 5/3    \n",
       "    2⋅π⋅k_B⋅mₐₜₒₘ       "
      ]
     },
     "execution_count": 4,
     "metadata": {},
     "output_type": "execute_result"
    }
   ],
   "source": [
    "T = eval_expr(dgas.T, functionals=dgas.functionals)\n",
    "T"
   ]
  },
  {
   "cell_type": "code",
   "execution_count": 5,
   "metadata": {},
   "outputs": [
    {
     "data": {
      "image/png": "[encoded data removed]",
      "text/latex": [
       "$$\\frac{h^{2} \\left(5 k_{B} \\rho - 2 m_{atom} s\\right) e^{\\frac{2 m_{atom} s}{3 k_{B} \\rho}}}{4 \\pi k_{B} m_{atom}^{\\frac{8}{3}} \\sqrt[3]{\\rho} e^{\\frac{5}{3}}}$$"
      ],
      "text/plain": [
       "                                2⋅mₐₜₒₘ⋅s\n",
       "                                ─────────\n",
       " 2                        -5/3   3⋅k_B⋅ρ \n",
       "h ⋅(5⋅k_B⋅ρ - 2⋅mₐₜₒₘ⋅s)⋅ℯ    ⋅ℯ         \n",
       "─────────────────────────────────────────\n",
       "                       8/3 3 ___         \n",
       "          4⋅π⋅k_B⋅mₐₜₒₘ   ⋅╲╱ ρ          "
      ]
     },
     "execution_count": 5,
     "metadata": {},
     "output_type": "execute_result"
    }
   ],
   "source": [
    "mu = eval_expr(dgas.mu, functionals=dgas.functionals)\n",
    "mu"
   ]
  },
  {
   "cell_type": "code",
   "execution_count": 6,
   "metadata": {},
   "outputs": [
    {
     "data": {
      "image/png": "[encoded data removed]",
      "text/latex": [
       "$$\\frac{h^{2} \\rho^{\\frac{5}{3}} e^{\\frac{2 m_{atom} s}{3 k_{B} \\rho}}}{2 \\pi m_{atom}^{\\frac{8}{3}} e^{\\frac{5}{3}}}$$"
      ],
      "text/plain": [
       "               2⋅mₐₜₒₘ⋅s\n",
       "               ─────────\n",
       " 2  5/3  -5/3   3⋅k_B⋅ρ \n",
       "h ⋅ρ   ⋅ℯ    ⋅ℯ         \n",
       "────────────────────────\n",
       "               8/3      \n",
       "      2⋅π⋅mₐₜₒₘ         "
      ]
     },
     "execution_count": 6,
     "metadata": {},
     "output_type": "execute_result"
    }
   ],
   "source": [
    "p = eval_expr(dgas.p, functionals=dgas.functionals)\n",
    "p"
   ]
  }
 ],
 "metadata": {
  "kernelspec": {
   "display_name": "Python 3",
   "language": "python",
   "name": "python3"
  },
  "language_info": {
   "codemirror_mode": {
    "name": "ipython",
    "version": 3
   },
   "file_extension": ".py",
   "mimetype": "text/x-python",
   "name": "python",
   "nbconvert_exporter": "python",
   "pygments_lexer": "ipython3",
   "version": "3.7.3"
  }
 },
 "nbformat": 4,
 "nbformat_minor": 4
}
