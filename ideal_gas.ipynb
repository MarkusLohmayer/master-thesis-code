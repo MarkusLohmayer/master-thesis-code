{
 "cells": [
  {
   "cell_type": "code",
   "execution_count": 22,
   "metadata": {},
   "outputs": [],
   "source": [
    "import sympy\n",
    "sympy.init_printing()"
   ]
  },
  {
   "cell_type": "code",
   "execution_count": 23,
   "metadata": {},
   "outputs": [],
   "source": [
    "import sys\n",
    "sys.path.insert(0, './code')\n",
    "\n",
    "import ideal_gas"
   ]
  },
  {
   "cell_type": "markdown",
   "metadata": {},
   "source": [
    "# Atomic wheight of Argon"
   ]
  },
  {
   "cell_type": "code",
   "execution_count": 2,
   "metadata": {},
   "outputs": [
    {
     "data": {
      "image/png": "[encoded data removed]",
      "text/latex": [
       "$$6.622229799889302e-26$$"
      ],
      "text/plain": [
       "6.622229799889302e-26"
      ]
     },
     "execution_count": 2,
     "metadata": {},
     "output_type": "execute_result"
    }
   ],
   "source": [
    "# Avogadro constant\n",
    "N_A = 6.02214076 * 10**23 # 1 / mol\n",
    "\n",
    "# Wheight of one mole of Argon\n",
    "M = 39.88 / 1000 # kg / mol\n",
    "\n",
    "# mass of one atom in kg\n",
    "m = M / N_A\n",
    "m"
   ]
  },
  {
   "cell_type": "markdown",
   "metadata": {},
   "source": [
    "# Sackur-Tetrode equation\n",
    "\n",
    "$$\n",
    "  C_1 = \\frac{5}{2} + \\frac{3}{2} \\, \\log \\biggl( \\frac{4 \\, \\pi \\, m}{3 \\, h^2} \\biggr)\n",
    "$$\n",
    "\n",
    "$$\n",
    "  S(U, \\, V, \\, N) = \n",
    "  N \\, k_B \\, \n",
    "  \\ln \\Biggl(\n",
    "    \\left( \\frac{V}{N} \\right) \n",
    "    \\left( \\frac{U}{N} \\right)^{\\frac{3}{2}}\n",
    "  \\Biggr) +\n",
    "  N \\, k_B \\, C_1\n",
    "$$"
   ]
  },
  {
   "cell_type": "code",
   "execution_count": 24,
   "metadata": {},
   "outputs": [],
   "source": [
    "k_B = sympy.Symbol('k_B', real=True, positive=True)\n",
    "U = sympy.Symbol('U', real=True, positive=True)\n",
    "V = sympy.Symbol('V', real=True, positive=True)\n",
    "N = sympy.Symbol('N', real=True, positive=True)\n",
    "h = sympy.Symbol('h', real=True, positive=True)\n",
    "m = sympy.Symbol('m', real=True, positive=True)"
   ]
  },
  {
   "cell_type": "code",
   "execution_count": 25,
   "metadata": {},
   "outputs": [
    {
     "data": {
      "image/png": "[encoded data removed]",
      "text/latex": [
       "$$\\frac{3 \\log{\\left (\\frac{4 \\pi m}{3 h^{2}} \\right )}}{2} + \\frac{5}{2}$$"
      ],
      "text/plain": [
       "     ⎛4⋅π⋅m⎞    \n",
       "3⋅log⎜─────⎟    \n",
       "     ⎜    2⎟    \n",
       "     ⎝ 3⋅h ⎠   5\n",
       "──────────── + ─\n",
       "     2         2"
      ]
     },
     "execution_count": 25,
     "metadata": {},
     "output_type": "execute_result"
    }
   ],
   "source": [
    "C1 = sympy.Rational(5,2) + sympy.Rational(3,2) * sympy.log((4 * sympy.pi * m) / (3 * h**2))\n",
    "C1"
   ]
  },
  {
   "cell_type": "code",
   "execution_count": 14,
   "metadata": {},
   "outputs": [],
   "source": [
    "C1 = sympy.Symbol('C_1', rational=True, positive=True)"
   ]
  },
  {
   "cell_type": "code",
   "execution_count": 26,
   "metadata": {},
   "outputs": [
    {
     "data": {
      "image/png": "[encoded data removed]",
      "text/latex": [
       "$$N k_{B} \\left(\\frac{3 \\log{\\left (\\frac{4 \\pi m}{3 h^{2}} \\right )}}{2} + \\log{\\left (\\frac{U^{\\frac{3}{2}} V}{N^{\\frac{5}{2}}} \\right )} + \\frac{5}{2}\\right)$$"
      ],
      "text/plain": [
       "      ⎛     ⎛4⋅π⋅m⎞                  ⎞\n",
       "      ⎜3⋅log⎜─────⎟                  ⎟\n",
       "      ⎜     ⎜    2⎟      ⎛ 3/2  ⎞    ⎟\n",
       "      ⎜     ⎝ 3⋅h ⎠      ⎜U   ⋅V⎟   5⎟\n",
       "N⋅k_B⋅⎜──────────── + log⎜──────⎟ + ─⎟\n",
       "      ⎜     2            ⎜  5/2 ⎟   2⎟\n",
       "      ⎝                  ⎝ N    ⎠    ⎠"
      ]
     },
     "execution_count": 26,
     "metadata": {},
     "output_type": "execute_result"
    }
   ],
   "source": [
    "# Sackur-Tetrode S(U, V, N)\n",
    "S = N * k_B * (sympy.log((V / N) * (U / N)**sympy.Rational(3,2)) + C1)\n",
    "S"
   ]
  },
  {
   "cell_type": "markdown",
   "metadata": {},
   "source": [
    "## equations of state"
   ]
  },
  {
   "cell_type": "code",
   "execution_count": 27,
   "metadata": {},
   "outputs": [
    {
     "data": {
      "image/png": "[encoded data removed]",
      "text/latex": [
       "$$\\frac{3 N k_{B}}{2 U}$$"
      ],
      "text/plain": [
       "3⋅N⋅k_B\n",
       "───────\n",
       "  2⋅U  "
      ]
     },
     "execution_count": 27,
     "metadata": {},
     "output_type": "execute_result"
    }
   ],
   "source": [
    "# (1 / T)\n",
    "S.diff(U)"
   ]
  },
  {
   "cell_type": "code",
   "execution_count": 28,
   "metadata": {},
   "outputs": [
    {
     "data": {
      "image/png": "[encoded data removed]",
      "text/latex": [
       "$$\\frac{2 U}{3 N k_{B}}$$"
      ],
      "text/plain": [
       "  2⋅U  \n",
       "───────\n",
       "3⋅N⋅k_B"
      ]
     },
     "execution_count": 28,
     "metadata": {},
     "output_type": "execute_result"
    }
   ],
   "source": [
    "# temperature T\n",
    "T = 1 / S.diff(U)\n",
    "T"
   ]
  },
  {
   "cell_type": "code",
   "execution_count": 29,
   "metadata": {},
   "outputs": [
    {
     "data": {
      "image/png": "[encoded data removed]",
      "text/latex": [
       "$$\\frac{N k_{B}}{V}$$"
      ],
      "text/plain": [
       "N⋅k_B\n",
       "─────\n",
       "  V  "
      ]
     },
     "execution_count": 29,
     "metadata": {},
     "output_type": "execute_result"
    }
   ],
   "source": [
    "# (p / T)\n",
    "S.diff(V)"
   ]
  },
  {
   "cell_type": "code",
   "execution_count": 30,
   "metadata": {},
   "outputs": [
    {
     "data": {
      "image/png": "[encoded data removed]",
      "text/latex": [
       "$$\\frac{2 U}{3 V}$$"
      ],
      "text/plain": [
       "2⋅U\n",
       "───\n",
       "3⋅V"
      ]
     },
     "execution_count": 30,
     "metadata": {},
     "output_type": "execute_result"
    }
   ],
   "source": [
    "# pressure p\n",
    "p = T * S.diff(V)\n",
    "p"
   ]
  },
  {
   "cell_type": "code",
   "execution_count": 31,
   "metadata": {},
   "outputs": [
    {
     "data": {
      "image/png": "[encoded data removed]",
      "text/latex": [
       "$$k_{B} \\left(\\frac{3 \\log{\\left (\\frac{4 \\pi m}{3 h^{2}} \\right )}}{2} + \\log{\\left (\\frac{U^{\\frac{3}{2}} V}{N^{\\frac{5}{2}}} \\right )} + \\frac{5}{2}\\right) - \\frac{5 k_{B}}{2}$$"
      ],
      "text/plain": [
       "    ⎛     ⎛4⋅π⋅m⎞                  ⎞        \n",
       "    ⎜3⋅log⎜─────⎟                  ⎟        \n",
       "    ⎜     ⎜    2⎟      ⎛ 3/2  ⎞    ⎟        \n",
       "    ⎜     ⎝ 3⋅h ⎠      ⎜U   ⋅V⎟   5⎟   5⋅k_B\n",
       "k_B⋅⎜──────────── + log⎜──────⎟ + ─⎟ - ─────\n",
       "    ⎜     2            ⎜  5/2 ⎟   2⎟     2  \n",
       "    ⎝                  ⎝ N    ⎠    ⎠        "
      ]
     },
     "execution_count": 31,
     "metadata": {},
     "output_type": "execute_result"
    }
   ],
   "source": [
    "# (-μ/T)\n",
    "S.diff(N)"
   ]
  },
  {
   "cell_type": "code",
   "execution_count": 32,
   "metadata": {},
   "outputs": [
    {
     "data": {
      "image/png": "[encoded data removed]",
      "text/latex": [
       "$$- \\log{\\left (\\left(\\frac{64 \\pi^{3} U^{3} V^{2} m^{3}}{27 N^{5} h^{6}}\\right)^{\\frac{U}{3 N}} \\right )}$$"
      ],
      "text/plain": [
       "    ⎛                 U ⎞\n",
       "    ⎜                ───⎟\n",
       "    ⎜                3⋅N⎟\n",
       "    ⎜⎛    3  3  2  3⎞   ⎟\n",
       "    ⎜⎜64⋅π ⋅U ⋅V ⋅m ⎟   ⎟\n",
       "-log⎜⎜──────────────⎟   ⎟\n",
       "    ⎜⎜       5  6   ⎟   ⎟\n",
       "    ⎝⎝   27⋅N ⋅h    ⎠   ⎠"
      ]
     },
     "execution_count": 32,
     "metadata": {},
     "output_type": "execute_result"
    }
   ],
   "source": [
    "# chemical potential μ\n",
    "μ = -T * S.diff(N)\n",
    "μ.simplify()"
   ]
  },
  {
   "cell_type": "code",
   "execution_count": 33,
   "metadata": {},
   "outputs": [
    {
     "name": "stdout",
     "output_type": "stream",
     "text": [
      "k_B*((3/2)*math.log((4/3)*math.pi*m/h**2) + math.log(U**(3/2)*V/N**(5/2)) + 5/2) - 5/2*k_B\n"
     ]
    }
   ],
   "source": [
    "print(sympy.pycode(S.diff(N)))"
   ]
  },
  {
   "cell_type": "markdown",
   "metadata": {},
   "source": [
    "# Sackur-Tetrode equation solved for U\n",
    "\n",
    "$$\n",
    "  C_1 = \\frac{5}{2} + \\frac{3}{2} \\, \\log \\biggl( \\frac{4 \\, \\pi \\, m}{3 \\, h^2} \\biggr)\n",
    "$$\n",
    "\n",
    "$$\n",
    "  U(S, \\, V, \\, N) = \n",
    "  N \\left(\n",
    "  \\frac{N}{V} \\, \\exp \\Bigl( \\frac{S}{N \\, k_B} - C_1 \\Bigr)\n",
    "  \\right)^\\frac{2}{3}\n",
    "$$"
   ]
  },
  {
   "cell_type": "code",
   "execution_count": 43,
   "metadata": {},
   "outputs": [],
   "source": [
    "S = sympy.Symbol('S', rational=True, positive=True)\n",
    "V = sympy.Symbol('V', rational=True, positive=True)\n",
    "N = sympy.Symbol('N', rational=True, positive=True)\n",
    "k_B = sympy.Symbol('k_B', rational=True, positive=True)"
   ]
  },
  {
   "cell_type": "code",
   "execution_count": 44,
   "metadata": {},
   "outputs": [],
   "source": [
    "C1 = sympy.Symbol('C_1', rational=True, positive=True)"
   ]
  },
  {
   "cell_type": "code",
   "execution_count": 45,
   "metadata": {},
   "outputs": [
    {
     "data": {
      "image/png": "[encoded data removed]",
      "text/latex": [
       "$$\\frac{N^{\\frac{5}{3}} e^{- \\frac{2 C_{1}}{3} + \\frac{2 S}{3 N k_{B}}}}{V^{\\frac{2}{3}}}$$"
      ],
      "text/plain": [
       "        2⋅C₁     2⋅S  \n",
       "      - ──── + ───────\n",
       " 5/3     3     3⋅N⋅k_B\n",
       "N   ⋅ℯ                \n",
       "──────────────────────\n",
       "          2/3         \n",
       "         V            "
      ]
     },
     "execution_count": 45,
     "metadata": {},
     "output_type": "execute_result"
    }
   ],
   "source": [
    "U = N * ((N / V) * sympy.exp(S / (k_B * N) - C1))**sympy.Rational(2,3)\n",
    "U"
   ]
  },
  {
   "cell_type": "code",
   "execution_count": 46,
   "metadata": {},
   "outputs": [
    {
     "data": {
      "image/png": "[encoded data removed]",
      "text/latex": [
       "$$\\frac{M^{\\frac{5}{3}} e^{\\frac{2 \\left(- C_{1} M k_{B} + S m\\right)}{3 M k_{B}}}}{V^{\\frac{2}{3}} m^{\\frac{5}{3}}}$$"
      ],
      "text/plain": [
       "      2⋅(-C₁⋅M⋅k_B + S⋅m)\n",
       "      ───────────────────\n",
       " 5/3        3⋅M⋅k_B      \n",
       "M   ⋅ℯ                   \n",
       "─────────────────────────\n",
       "         2/3  5/3        \n",
       "        V   ⋅m           "
      ]
     },
     "execution_count": 46,
     "metadata": {},
     "output_type": "execute_result"
    }
   ],
   "source": [
    "U.subs(N, M/m).simplify()"
   ]
  },
  {
   "cell_type": "code",
   "execution_count": 40,
   "metadata": {},
   "outputs": [
    {
     "data": {
      "image/png": "[encoded data removed]",
      "text/latex": [
       "$$\\frac{2 N^{\\frac{2}{3}} e^{\\frac{2 \\left(- C_{1} N k_{B} + S\\right)}{3 N k_{B}}}}{3 V^{\\frac{2}{3}} k_{B}}$$"
      ],
      "text/plain": [
       "        2⋅(-C₁⋅N⋅k_B + S)\n",
       "        ─────────────────\n",
       "   2/3       3⋅N⋅k_B     \n",
       "2⋅N   ⋅ℯ                 \n",
       "─────────────────────────\n",
       "           2/3           \n",
       "        3⋅V   ⋅k_B       "
      ]
     },
     "execution_count": 40,
     "metadata": {},
     "output_type": "execute_result"
    }
   ],
   "source": [
    "# temperature T\n",
    "T = U.diff(S)\n",
    "T.simplify()"
   ]
  },
  {
   "cell_type": "code",
   "execution_count": 41,
   "metadata": {},
   "outputs": [
    {
     "data": {
      "image/png": "[encoded data removed]",
      "text/latex": [
       "$$\\frac{2 N^{\\frac{5}{3}} e^{\\frac{2 \\left(- C_{1} N k_{B} + S\\right)}{3 N k_{B}}}}{3 V^{\\frac{5}{3}}}$$"
      ],
      "text/plain": [
       "        2⋅(-C₁⋅N⋅k_B + S)\n",
       "        ─────────────────\n",
       "   5/3       3⋅N⋅k_B     \n",
       "2⋅N   ⋅ℯ                 \n",
       "─────────────────────────\n",
       "             5/3         \n",
       "          3⋅V            "
      ]
     },
     "execution_count": 41,
     "metadata": {},
     "output_type": "execute_result"
    }
   ],
   "source": [
    "# pressure p\n",
    "p = -U.diff(V)\n",
    "p.simplify()"
   ]
  },
  {
   "cell_type": "code",
   "execution_count": 42,
   "metadata": {},
   "outputs": [
    {
     "data": {
      "image/png": "[encoded data removed]",
      "text/latex": [
       "$$\\frac{\\left(5 N k_{B} - 2 S\\right) e^{\\frac{2 \\left(- C_{1} N k_{B} + S\\right)}{3 N k_{B}}}}{3 \\sqrt[3]{N} V^{\\frac{2}{3}} k_{B}}$$"
      ],
      "text/plain": [
       "                 2⋅(-C₁⋅N⋅k_B + S)\n",
       "                 ─────────────────\n",
       "                      3⋅N⋅k_B     \n",
       "(5⋅N⋅k_B - 2⋅S)⋅ℯ                 \n",
       "──────────────────────────────────\n",
       "           3 ___  2/3             \n",
       "         3⋅╲╱ N ⋅V   ⋅k_B         "
      ]
     },
     "execution_count": 42,
     "metadata": {},
     "output_type": "execute_result"
    }
   ],
   "source": [
    "# chemical potential μ\n",
    "μ = (U.diff(N)).simplify()\n",
    "μ"
   ]
  },
  {
   "cell_type": "code",
   "execution_count": 28,
   "metadata": {},
   "outputs": [
    {
     "name": "stdout",
     "output_type": "stream",
     "text": [
      "(1/3)*(5*N*k_B - 2*S)*math.exp((2/3)*(-C_1*N*k_B + S)/(N*k_B))/(N**(1/3)*V**(2/3)*k_B)\n"
     ]
    }
   ],
   "source": [
    "print(sympy.pycode(μ))"
   ]
  },
  {
   "cell_type": "markdown",
   "metadata": {},
   "source": [
    "## internal energy density"
   ]
  },
  {
   "cell_type": "code",
   "execution_count": 6,
   "metadata": {},
   "outputs": [],
   "source": []
  },
  {
   "cell_type": "code",
   "execution_count": null,
   "metadata": {},
   "outputs": [],
   "source": [
    "U.subs(S, s*V).subs(N, M/m)"
   ]
  },
  {
   "cell_type": "code",
   "execution_count": null,
   "metadata": {},
   "outputs": [],
   "source": []
  },
  {
   "cell_type": "markdown",
   "metadata": {},
   "source": [
    "# Tests"
   ]
  },
  {
   "cell_type": "code",
   "execution_count": 29,
   "metadata": {},
   "outputs": [
    {
     "ename": "ModuleNotFoundError",
     "evalue": "No module named 'ideal_gas'",
     "output_type": "error",
     "traceback": [
      "\u001b[0;31m---------------------------------------------------------------------------\u001b[0m",
      "\u001b[0;31mModuleNotFoundError\u001b[0m                       Traceback (most recent call last)",
      "\u001b[0;32m<ipython-input-29-41676d0d93f9>\u001b[0m in \u001b[0;36m<module>\u001b[0;34m\u001b[0m\n\u001b[0;32m----> 1\u001b[0;31m \u001b[0;32mfrom\u001b[0m \u001b[0mideal_gas\u001b[0m \u001b[0;32mimport\u001b[0m \u001b[0;34m*\u001b[0m\u001b[0;34m\u001b[0m\u001b[0;34m\u001b[0m\u001b[0m\n\u001b[0m",
      "\u001b[0;31mModuleNotFoundError\u001b[0m: No module named 'ideal_gas'"
     ]
    }
   ],
   "source": [
    "from ideal_gas import *"
   ]
  },
  {
   "cell_type": "code",
   "execution_count": 15,
   "metadata": {},
   "outputs": [],
   "source": [
    "T1 = 273.15 # standard temperature\n",
    "V1 = 1.0\n",
    "N1 = 2.66e25 # adjusted this until close to standard pressure (1 bar)\n",
    "U1 = U2(T1, V1, N1)\n",
    "S1 = S(U1, V1, N1)"
   ]
  },
  {
   "cell_type": "code",
   "execution_count": 16,
   "metadata": {},
   "outputs": [
    {
     "data": {
      "text/plain": [
       "1.0031505697710061"
      ]
     },
     "execution_count": 16,
     "metadata": {},
     "output_type": "execute_result"
    }
   ],
   "source": [
    "U_p(S1, V1, N1) * 1e-5"
   ]
  },
  {
   "cell_type": "code",
   "execution_count": 17,
   "metadata": {},
   "outputs": [
    {
     "data": {
      "text/plain": [
       "1.003150569771"
      ]
     },
     "execution_count": 17,
     "metadata": {},
     "output_type": "execute_result"
    }
   ],
   "source": [
    "F_p(T1, V1, N1) * 1e-5"
   ]
  },
  {
   "cell_type": "code",
   "execution_count": 18,
   "metadata": {},
   "outputs": [
    {
     "data": {
      "text/plain": [
       "1.003150569771"
      ]
     },
     "execution_count": 18,
     "metadata": {},
     "output_type": "execute_result"
    }
   ],
   "source": [
    "S_p(U1, V1, N1) * 1e-5"
   ]
  },
  {
   "cell_type": "code",
   "execution_count": 19,
   "metadata": {},
   "outputs": [
    {
     "data": {
      "text/plain": [
       "1.7615131267705542"
      ]
     },
     "execution_count": 19,
     "metadata": {},
     "output_type": "execute_result"
    }
   ],
   "source": [
    "N1 * m"
   ]
  },
  {
   "cell_type": "markdown",
   "metadata": {},
   "source": [
    "This is close to the density of argon at STP: $1.784 \\, \\mathrm{kg} / \\mathrm{m}^3$"
   ]
  },
  {
   "cell_type": "code",
   "execution_count": 20,
   "metadata": {},
   "outputs": [
    {
     "data": {
      "text/plain": [
       "-2.0372681319713593e-10"
      ]
     },
     "execution_count": 20,
     "metadata": {},
     "output_type": "execute_result"
    }
   ],
   "source": [
    "U(S1, V1, N1) - U2(T1, N1)"
   ]
  },
  {
   "cell_type": "markdown",
   "metadata": {},
   "source": [
    "# derivation of Helmholtz free energy"
   ]
  },
  {
   "cell_type": "code",
   "execution_count": 7,
   "metadata": {},
   "outputs": [
    {
     "data": {
      "image/png": "[encoded data removed]",
      "text/latex": [
       "$$\\frac{N T k_{B} \\left(- 2 C_{1} + \\log{\\left (\\frac{8 N^{2}}{27 T^{3} V^{2} k_{B}^{3}} \\right )} + 3\\right)}{2}$$"
      ],
      "text/plain": [
       "        ⎛           ⎛        2    ⎞    ⎞\n",
       "        ⎜           ⎜     8⋅N     ⎟    ⎟\n",
       "N⋅T⋅k_B⋅⎜-2⋅C₁ + log⎜─────────────⎟ + 3⎟\n",
       "        ⎜           ⎜    3  2    3⎟    ⎟\n",
       "        ⎝           ⎝27⋅T ⋅V ⋅k_B ⎠    ⎠\n",
       "────────────────────────────────────────\n",
       "                   2                    "
      ]
     },
     "execution_count": 7,
     "metadata": {},
     "output_type": "execute_result"
    }
   ],
   "source": [
    "import sympy\n",
    "sympy.init_printing()\n",
    "\n",
    "# declare symbols\n",
    "S = sympy.Symbol('S', rational=True, positive=True)\n",
    "V = sympy.Symbol('V', rational=True, positive=True)\n",
    "N = sympy.Symbol('N', rational=True, positive=True)\n",
    "T = sympy.Symbol('T', rational=True, positive=True)\n",
    "k_B = sympy.Symbol('k_B', rational=True, positive=True)\n",
    "C1 = sympy.Symbol('C_1', rational=True, positive=True)\n",
    "\n",
    "# Sackur-Tetrode equation solved for U\n",
    "U = N * ((N / V) * sympy.exp(S / (k_B * N) - C1))**sympy.Rational(2,3)\n",
    "\n",
    "# thermodynamic equation of state for temperature \n",
    "temperature = U.diff(S)\n",
    "\n",
    "# solve state equation for entropy\n",
    "# note: temperature = T <=> temperature - T = 0\n",
    "entropy = sympy.solve(temperature - T, S)[0]\n",
    "\n",
    "# eliminate S in U(S, V, N) to obtain the energy in terms of (T, V, N)\n",
    "energy = U.subs(S, entropy)\n",
    "\n",
    "# Helmholtz free energy\n",
    "free_energy = (energy - T * entropy).simplify()\n",
    "\n",
    "free_energy"
   ]
  },
  {
   "cell_type": "code",
   "execution_count": 23,
   "metadata": {},
   "outputs": [
    {
     "data": {
      "image/png": "[encoded data removed]",
      "text/latex": [
       "$$- \\frac{N k_{B} \\left(- 2 C_{1} + \\log{\\left (\\frac{8 N^{2}}{27 T^{3} V^{2} k_{B}^{3}} \\right )}\\right)}{2}$$"
      ],
      "text/plain": [
       "       ⎛           ⎛        2    ⎞⎞ \n",
       "       ⎜           ⎜     8⋅N     ⎟⎟ \n",
       "-N⋅k_B⋅⎜-2⋅C₁ + log⎜─────────────⎟⎟ \n",
       "       ⎜           ⎜    3  2    3⎟⎟ \n",
       "       ⎝           ⎝27⋅T ⋅V ⋅k_B ⎠⎠ \n",
       "────────────────────────────────────\n",
       "                 2                  "
      ]
     },
     "execution_count": 23,
     "metadata": {},
     "output_type": "execute_result"
    }
   ],
   "source": [
    "S = -(free_energy.diff(T)).simplify()\n",
    "S"
   ]
  },
  {
   "cell_type": "code",
   "execution_count": 9,
   "metadata": {},
   "outputs": [
    {
     "data": {
      "image/png": "[encoded data removed]",
      "text/latex": [
       "$$\\frac{N T k_{B}}{V}$$"
      ],
      "text/plain": [
       "N⋅T⋅k_B\n",
       "───────\n",
       "   V   "
      ]
     },
     "execution_count": 9,
     "metadata": {},
     "output_type": "execute_result"
    }
   ],
   "source": [
    "p = -(free_energy.diff(V)).simplify()\n",
    "p"
   ]
  },
  {
   "cell_type": "code",
   "execution_count": 10,
   "metadata": {},
   "outputs": [
    {
     "data": {
      "image/png": "[encoded data removed]",
      "text/latex": [
       "$$\\frac{T k_{B} \\left(- 2 C_{1} + \\log{\\left (\\frac{8 N^{2}}{27 T^{3} V^{2} k_{B}^{3}} \\right )} + 5\\right)}{2}$$"
      ],
      "text/plain": [
       "      ⎛           ⎛        2    ⎞    ⎞\n",
       "      ⎜           ⎜     8⋅N     ⎟    ⎟\n",
       "T⋅k_B⋅⎜-2⋅C₁ + log⎜─────────────⎟ + 5⎟\n",
       "      ⎜           ⎜    3  2    3⎟    ⎟\n",
       "      ⎝           ⎝27⋅T ⋅V ⋅k_B ⎠    ⎠\n",
       "──────────────────────────────────────\n",
       "                  2                   "
      ]
     },
     "execution_count": 10,
     "metadata": {},
     "output_type": "execute_result"
    }
   ],
   "source": [
    "μ = (free_energy.diff(N)).simplify()\n",
    "μ"
   ]
  },
  {
   "cell_type": "code",
   "execution_count": 13,
   "metadata": {},
   "outputs": [
    {
     "name": "stdout",
     "output_type": "stream",
     "text": [
      "(1/2)*T*k_B*(-2*C_1 + math.log((8/27)*N**2/(T**3*V**2*k_B**3)) + 5)\n"
     ]
    }
   ],
   "source": [
    "print(sympy.pycode(μ))"
   ]
  },
  {
   "cell_type": "code",
   "execution_count": null,
   "metadata": {},
   "outputs": [],
   "source": []
  },
  {
   "cell_type": "markdown",
   "metadata": {},
   "source": [
    "# compare changes in internal Energy and Helmholtz free energy"
   ]
  },
  {
   "cell_type": "code",
   "execution_count": 21,
   "metadata": {},
   "outputs": [],
   "source": [
    "N = 1.345119603317771e+22\n",
    "\n",
    "V_1 = 0.0003691371367968008\n",
    "S_1 = 3.4444942208847232\n",
    "U_1 = ideal_gas.U(S_1, V_1, N)\n",
    "T_1 = ideal_gas.U_T(S_1, V_1, N)\n",
    "F_1 = ideal_gas.F(T_1, V_1, N)\n",
    "\n",
    "V_2 = V_1\n",
    "T_2 = 400\n",
    "F_2 = ideal_gas.F(T_2, V_2, N)\n",
    "S_2 = ideal_gas.F_S(T_2, V_2, N)\n",
    "U_2 = ideal_gas.U(S_2, V_2, N)"
   ]
  }
 ],
 "metadata": {
  "kernelspec": {
   "display_name": "Python 3",
   "language": "python",
   "name": "python3"
  },
  "language_info": {
   "codemirror_mode": {
    "name": "ipython",
    "version": 3
   },
   "file_extension": ".py",
   "mimetype": "text/x-python",
   "name": "python",
   "nbconvert_exporter": "python",
   "pygments_lexer": "ipython3",
   "version": "3.7.3"
  }
 },
 "nbformat": 4,
 "nbformat_minor": 4
}
