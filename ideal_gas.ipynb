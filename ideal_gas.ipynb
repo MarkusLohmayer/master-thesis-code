{
 "cells": [
  {
   "cell_type": "code",
   "execution_count": 1,
   "metadata": {},
   "outputs": [],
   "source": [
    "import sympy\n",
    "sympy.init_printing()"
   ]
  },
  {
   "cell_type": "markdown",
   "metadata": {},
   "source": [
    "# Atomic wheight of Argon"
   ]
  },
  {
   "cell_type": "code",
   "execution_count": null,
   "metadata": {},
   "outputs": [],
   "source": [
    "# Avogadro constant\n",
    "N_A = 6.02214076 * 10**23 # 1 / mol\n",
    "\n",
    "# Wheight of one mole of Argon\n",
    "M = 39.88 / 1000 # kg / mol\n",
    "\n",
    "# mass of one atom in kg\n",
    "m = M / N_A\n",
    "m"
   ]
  },
  {
   "cell_type": "markdown",
   "metadata": {},
   "source": [
    "# Sackur-Tetrode equation\n",
    "\n",
    "$$\n",
    "  C_1 = \\frac{5}{2} + \\frac{3}{2} \\, \\log \\biggl( \\frac{4 \\, \\pi \\, m}{3 \\, h^2} \\biggr)\n",
    "$$\n",
    "\n",
    "$$\n",
    "  S(U, \\, V, \\, N) = \n",
    "  N \\, k_B \\, \n",
    "  \\ln \\Biggl(\n",
    "    \\left( \\frac{V}{N} \\right) \n",
    "    \\left( \\frac{U}{N} \\right)^{\\frac{3}{2}}\n",
    "  \\Biggr) +\n",
    "  N \\, k_B \\, C_1\n",
    "$$"
   ]
  },
  {
   "cell_type": "code",
   "execution_count": 42,
   "metadata": {},
   "outputs": [],
   "source": [
    "#k_B = sympy.Symbol('k_B', real=True, positive=True)\n",
    "from sympy.abc import U, V, N, h, m"
   ]
  },
  {
   "cell_type": "code",
   "execution_count": 73,
   "metadata": {},
   "outputs": [
    {
     "data": {
      "image/png": "[encoded data removed]",
      "text/latex": [
       "$$\\frac{3 \\log{\\left (\\frac{4 \\pi m}{3 h^{2}} \\right )}}{2} + \\frac{5}{2}$$"
      ],
      "text/plain": [
       "     ⎛4⋅π⋅m⎞    \n",
       "3⋅log⎜─────⎟    \n",
       "     ⎜    2⎟    \n",
       "     ⎝ 3⋅h ⎠   5\n",
       "──────────── + ─\n",
       "     2         2"
      ]
     },
     "execution_count": 73,
     "metadata": {},
     "output_type": "execute_result"
    }
   ],
   "source": [
    "C1 = sympy.Rational(5,2) + sympy.Rational(3,2) * sympy.log((4 * sympy.pi * m) / (3 * h**2))\n",
    "C1"
   ]
  },
  {
   "cell_type": "code",
   "execution_count": 52,
   "metadata": {},
   "outputs": [],
   "source": [
    "C1 = sympy.Symbol('C_1', rational=True, positive=True)"
   ]
  },
  {
   "cell_type": "code",
   "execution_count": 53,
   "metadata": {},
   "outputs": [
    {
     "data": {
      "image/png": "[encoded data removed]",
      "text/latex": [
       "$$N k_{B} \\left(C_{1} + \\log{\\left (\\frac{V \\left(\\frac{U}{N}\\right)^{\\frac{3}{2}}}{N} \\right )}\\right)$$"
      ],
      "text/plain": [
       "      ⎛        ⎛     3/2⎞⎞\n",
       "      ⎜        ⎜  ⎛U⎞   ⎟⎟\n",
       "      ⎜        ⎜V⋅⎜─⎟   ⎟⎟\n",
       "      ⎜        ⎜  ⎝N⎠   ⎟⎟\n",
       "N⋅k_B⋅⎜C₁ + log⎜────────⎟⎟\n",
       "      ⎝        ⎝   N    ⎠⎠"
      ]
     },
     "execution_count": 53,
     "metadata": {},
     "output_type": "execute_result"
    }
   ],
   "source": [
    "# Sackur-Tetrode S(U, V, N)\n",
    "S = N * k_B * (sympy.log((V / N) * (U / N)**sympy.Rational(3,2)) + C1)\n",
    "S"
   ]
  },
  {
   "cell_type": "markdown",
   "metadata": {},
   "source": [
    "## equations of state"
   ]
  },
  {
   "cell_type": "code",
   "execution_count": 54,
   "metadata": {},
   "outputs": [
    {
     "data": {
      "image/png": "[encoded data removed]",
      "text/latex": [
       "$$\\frac{3 N k_{B}}{2 U}$$"
      ],
      "text/plain": [
       "3⋅N⋅k_B\n",
       "───────\n",
       "  2⋅U  "
      ]
     },
     "execution_count": 54,
     "metadata": {},
     "output_type": "execute_result"
    }
   ],
   "source": [
    "# (1 / T)\n",
    "S.diff(U)"
   ]
  },
  {
   "cell_type": "code",
   "execution_count": 55,
   "metadata": {},
   "outputs": [
    {
     "data": {
      "image/png": "[encoded data removed]",
      "text/latex": [
       "$$\\frac{2 U}{3 N k_{B}}$$"
      ],
      "text/plain": [
       "  2⋅U  \n",
       "───────\n",
       "3⋅N⋅k_B"
      ]
     },
     "execution_count": 55,
     "metadata": {},
     "output_type": "execute_result"
    }
   ],
   "source": [
    "# temperature T\n",
    "T = 1 / S.diff(U)\n",
    "T"
   ]
  },
  {
   "cell_type": "code",
   "execution_count": 56,
   "metadata": {},
   "outputs": [
    {
     "data": {
      "image/png": "[encoded data removed]",
      "text/latex": [
       "$$\\frac{N k_{B}}{V}$$"
      ],
      "text/plain": [
       "N⋅k_B\n",
       "─────\n",
       "  V  "
      ]
     },
     "execution_count": 56,
     "metadata": {},
     "output_type": "execute_result"
    }
   ],
   "source": [
    "# (p / T)\n",
    "S.diff(V)"
   ]
  },
  {
   "cell_type": "code",
   "execution_count": 57,
   "metadata": {},
   "outputs": [
    {
     "data": {
      "image/png": "[encoded data removed]",
      "text/latex": [
       "$$\\frac{2 U}{3 V}$$"
      ],
      "text/plain": [
       "2⋅U\n",
       "───\n",
       "3⋅V"
      ]
     },
     "execution_count": 57,
     "metadata": {},
     "output_type": "execute_result"
    }
   ],
   "source": [
    "# pressure p\n",
    "p = T * S.diff(V)\n",
    "p"
   ]
  },
  {
   "cell_type": "code",
   "execution_count": 61,
   "metadata": {},
   "outputs": [
    {
     "data": {
      "image/png": "[encoded data removed]",
      "text/latex": [
       "$$k_{B} \\left(C_{1} + \\log{\\left (\\frac{V \\left(\\frac{U}{N}\\right)^{\\frac{3}{2}}}{N} \\right )}\\right) - \\frac{5 k_{B}}{2}$$"
      ],
      "text/plain": [
       "    ⎛        ⎛     3/2⎞⎞        \n",
       "    ⎜        ⎜  ⎛U⎞   ⎟⎟        \n",
       "    ⎜        ⎜V⋅⎜─⎟   ⎟⎟        \n",
       "    ⎜        ⎜  ⎝N⎠   ⎟⎟   5⋅k_B\n",
       "k_B⋅⎜C₁ + log⎜────────⎟⎟ - ─────\n",
       "    ⎝        ⎝   N    ⎠⎠     2  "
      ]
     },
     "execution_count": 61,
     "metadata": {},
     "output_type": "execute_result"
    }
   ],
   "source": [
    "# (-μ/T)\n",
    "S.diff(N)"
   ]
  },
  {
   "cell_type": "code",
   "execution_count": 59,
   "metadata": {},
   "outputs": [
    {
     "data": {
      "image/png": "[encoded data removed]",
      "text/latex": [
       "$$- \\frac{U \\left(2 C_{1} + 2 \\log{\\left (\\frac{V \\left(\\frac{U}{N}\\right)^{\\frac{3}{2}}}{N} \\right )} - 5\\right)}{3 N}$$"
      ],
      "text/plain": [
       "   ⎛            ⎛     3/2⎞    ⎞ \n",
       "   ⎜            ⎜  ⎛U⎞   ⎟    ⎟ \n",
       "   ⎜            ⎜V⋅⎜─⎟   ⎟    ⎟ \n",
       "   ⎜            ⎜  ⎝N⎠   ⎟    ⎟ \n",
       "-U⋅⎜2⋅C₁ + 2⋅log⎜────────⎟ - 5⎟ \n",
       "   ⎝            ⎝   N    ⎠    ⎠ \n",
       "────────────────────────────────\n",
       "              3⋅N               "
      ]
     },
     "execution_count": 59,
     "metadata": {},
     "output_type": "execute_result"
    }
   ],
   "source": [
    "# chemical potential μ\n",
    "μ = -T * S.diff(N)\n",
    "μ.simplify()"
   ]
  },
  {
   "cell_type": "code",
   "execution_count": 62,
   "metadata": {},
   "outputs": [
    {
     "name": "stdout",
     "output_type": "stream",
     "text": [
      "k_B*(C_1 + math.log(V*(U/N)**(3/2)/N)) - 5/2*k_B\n"
     ]
    }
   ],
   "source": [
    "print(sympy.pycode(S.diff(N)))"
   ]
  },
  {
   "cell_type": "markdown",
   "metadata": {},
   "source": [
    "# Sackur-Tetrode equation solved for U\n",
    "\n",
    "$$\n",
    "  C_1 = \\frac{5}{2} + \\frac{3}{2} \\, \\log \\biggl( \\frac{4 \\, \\pi \\, m}{3 \\, h^2} \\biggr)\n",
    "$$\n",
    "\n",
    "$$\n",
    "  U(S, \\, V, \\, N) = \n",
    "  N \\left(\n",
    "  \\frac{N}{V} \\, \\exp \\Bigl( \\frac{S}{N \\, k_B} - C_1 \\Bigr)\n",
    "  \\right)^\\frac{2}{3}\n",
    "$$"
   ]
  },
  {
   "cell_type": "code",
   "execution_count": 66,
   "metadata": {},
   "outputs": [],
   "source": [
    "S = sympy.Symbol('S', rational=True, positive=True)\n",
    "V = sympy.Symbol('V', rational=True, positive=True)\n",
    "N = sympy.Symbol('N', rational=True, positive=True)\n",
    "k_B = sympy.Symbol('k_B', rational=True, positive=True)\n",
    "C1 = sympy.Symbol('C_1', rational=True, positive=True)"
   ]
  },
  {
   "cell_type": "code",
   "execution_count": 74,
   "metadata": {},
   "outputs": [
    {
     "data": {
      "image/png": "[encoded data removed]",
      "text/latex": [
       "$$\\frac{3 N^{\\frac{5}{3}} \\left(\\frac{1}{\\left(\\frac{m}{h^{2}}\\right)^{\\frac{3}{2}}}\\right)^{\\frac{2}{3}} e^{- \\frac{5}{3} + \\frac{2 S}{3 N k_{B}}}}{4 \\pi V^{\\frac{2}{3}}}$$"
      ],
      "text/plain": [
       "                       5     2⋅S  \n",
       "                2/3  - ─ + ───────\n",
       "   5/3 ⎛   1   ⎞       3   3⋅N⋅k_B\n",
       "3⋅N   ⋅⎜───────⎟   ⋅ℯ             \n",
       "       ⎜    3/2⎟                  \n",
       "       ⎜⎛m ⎞   ⎟                  \n",
       "       ⎜⎜──⎟   ⎟                  \n",
       "       ⎜⎜ 2⎟   ⎟                  \n",
       "       ⎝⎝h ⎠   ⎠                  \n",
       "──────────────────────────────────\n",
       "                  2/3             \n",
       "             4⋅π⋅V                "
      ]
     },
     "execution_count": 74,
     "metadata": {},
     "output_type": "execute_result"
    }
   ],
   "source": [
    "U = N * ((N / V) * sympy.exp(S / (k_B * N) - C1))**sympy.Rational(2,3)\n",
    "U"
   ]
  },
  {
   "cell_type": "code",
   "execution_count": 75,
   "metadata": {},
   "outputs": [
    {
     "data": {
      "image/png": "[encoded data removed]",
      "text/latex": [
       "$$\\frac{N^{\\frac{2}{3}} \\left(\\frac{1}{\\left(\\frac{m}{h^{2}}\\right)^{\\frac{3}{2}}}\\right)^{\\frac{2}{3}} e^{\\frac{- 5 N k_{B} + 2 S}{3 N k_{B}}}}{2 \\pi V^{\\frac{2}{3}} k_{B}}$$"
      ],
      "text/plain": [
       "                   -5⋅N⋅k_B + 2⋅S\n",
       "              2/3  ──────────────\n",
       " 2/3 ⎛   1   ⎞        3⋅N⋅k_B    \n",
       "N   ⋅⎜───────⎟   ⋅ℯ              \n",
       "     ⎜    3/2⎟                   \n",
       "     ⎜⎛m ⎞   ⎟                   \n",
       "     ⎜⎜──⎟   ⎟                   \n",
       "     ⎜⎜ 2⎟   ⎟                   \n",
       "     ⎝⎝h ⎠   ⎠                   \n",
       "─────────────────────────────────\n",
       "                2/3              \n",
       "           2⋅π⋅V   ⋅k_B          "
      ]
     },
     "execution_count": 75,
     "metadata": {},
     "output_type": "execute_result"
    }
   ],
   "source": [
    "# temperature T\n",
    "T = U.diff(S)\n",
    "T.simplify()"
   ]
  },
  {
   "cell_type": "code",
   "execution_count": 76,
   "metadata": {},
   "outputs": [
    {
     "data": {
      "image/png": "[encoded data removed]",
      "text/latex": [
       "$$\\frac{N^{\\frac{5}{3}} \\left(\\frac{1}{\\left(\\frac{m}{h^{2}}\\right)^{\\frac{3}{2}}}\\right)^{\\frac{2}{3}} e^{\\frac{- 5 N k_{B} + 2 S}{3 N k_{B}}}}{2 \\pi V^{\\frac{5}{3}}}$$"
      ],
      "text/plain": [
       "                   -5⋅N⋅k_B + 2⋅S\n",
       "              2/3  ──────────────\n",
       " 5/3 ⎛   1   ⎞        3⋅N⋅k_B    \n",
       "N   ⋅⎜───────⎟   ⋅ℯ              \n",
       "     ⎜    3/2⎟                   \n",
       "     ⎜⎛m ⎞   ⎟                   \n",
       "     ⎜⎜──⎟   ⎟                   \n",
       "     ⎜⎜ 2⎟   ⎟                   \n",
       "     ⎝⎝h ⎠   ⎠                   \n",
       "─────────────────────────────────\n",
       "                  5/3            \n",
       "             2⋅π⋅V               "
      ]
     },
     "execution_count": 76,
     "metadata": {},
     "output_type": "execute_result"
    }
   ],
   "source": [
    "# pressure p\n",
    "p = -U.diff(V)\n",
    "p.simplify()"
   ]
  },
  {
   "cell_type": "code",
   "execution_count": 77,
   "metadata": {},
   "outputs": [
    {
     "data": {
      "image/png": "[encoded data removed]",
      "text/latex": [
       "$$\\frac{\\left(5 N k_{B} - 2 S\\right) \\left(\\frac{1}{\\left(\\frac{m}{h^{2}}\\right)^{\\frac{3}{2}}}\\right)^{\\frac{2}{3}} e^{\\frac{- 5 N k_{B} + 2 S}{3 N k_{B}}}}{4 \\pi \\sqrt[3]{N} V^{\\frac{2}{3}} k_{B}}$$"
      ],
      "text/plain": [
       "                              -5⋅N⋅k_B + 2⋅S\n",
       "                         2/3  ──────────────\n",
       "                ⎛   1   ⎞        3⋅N⋅k_B    \n",
       "(5⋅N⋅k_B - 2⋅S)⋅⎜───────⎟   ⋅ℯ              \n",
       "                ⎜    3/2⎟                   \n",
       "                ⎜⎛m ⎞   ⎟                   \n",
       "                ⎜⎜──⎟   ⎟                   \n",
       "                ⎜⎜ 2⎟   ⎟                   \n",
       "                ⎝⎝h ⎠   ⎠                   \n",
       "────────────────────────────────────────────\n",
       "                 3 ___  2/3                 \n",
       "             4⋅π⋅╲╱ N ⋅V   ⋅k_B             "
      ]
     },
     "execution_count": 77,
     "metadata": {},
     "output_type": "execute_result"
    }
   ],
   "source": [
    "# chemical potential μ\n",
    "μ = (U.diff(N)).simplify()\n",
    "μ"
   ]
  },
  {
   "cell_type": "code",
   "execution_count": 72,
   "metadata": {},
   "outputs": [
    {
     "name": "stdout",
     "output_type": "stream",
     "text": [
      "(1/3)*(5*N*k_B - 2*S)*math.exp((2/3)*(-C_1*N*k_B + S)/(N*k_B))/(N**(1/3)*V**(2/3)*k_B)\n"
     ]
    }
   ],
   "source": [
    "print(sympy.pycode(μ))"
   ]
  },
  {
   "cell_type": "markdown",
   "metadata": {},
   "source": [
    "# Tests"
   ]
  },
  {
   "cell_type": "code",
   "execution_count": 1,
   "metadata": {},
   "outputs": [],
   "source": [
    "from ideal_gas import *"
   ]
  },
  {
   "cell_type": "code",
   "execution_count": 15,
   "metadata": {},
   "outputs": [],
   "source": [
    "T1 = 273.15 # standard temperature\n",
    "V1 = 1.0\n",
    "N1 = 2.66e25 # adjusted this until close to standard pressure (1 bar)\n",
    "U1 = U2(T1, V1, N1)\n",
    "S1 = S(U1, V1, N1)"
   ]
  },
  {
   "cell_type": "code",
   "execution_count": 16,
   "metadata": {},
   "outputs": [
    {
     "data": {
      "text/plain": [
       "1.0031505697710061"
      ]
     },
     "execution_count": 16,
     "metadata": {},
     "output_type": "execute_result"
    }
   ],
   "source": [
    "U_p(S1, V1, N1) * 1e-5"
   ]
  },
  {
   "cell_type": "code",
   "execution_count": 17,
   "metadata": {},
   "outputs": [
    {
     "data": {
      "text/plain": [
       "1.003150569771"
      ]
     },
     "execution_count": 17,
     "metadata": {},
     "output_type": "execute_result"
    }
   ],
   "source": [
    "F_p(T1, V1, N1) * 1e-5"
   ]
  },
  {
   "cell_type": "code",
   "execution_count": 18,
   "metadata": {},
   "outputs": [
    {
     "data": {
      "text/plain": [
       "1.003150569771"
      ]
     },
     "execution_count": 18,
     "metadata": {},
     "output_type": "execute_result"
    }
   ],
   "source": [
    "S_p(U1, V1, N1) * 1e-5"
   ]
  },
  {
   "cell_type": "code",
   "execution_count": 19,
   "metadata": {},
   "outputs": [
    {
     "data": {
      "text/plain": [
       "1.7615131267705542"
      ]
     },
     "execution_count": 19,
     "metadata": {},
     "output_type": "execute_result"
    }
   ],
   "source": [
    "N1 * m"
   ]
  },
  {
   "cell_type": "markdown",
   "metadata": {},
   "source": [
    "This is close to the density of argon at STP: $1.784 \\, \\mathrm{kg} / \\mathrm{m}^3$"
   ]
  },
  {
   "cell_type": "code",
   "execution_count": 20,
   "metadata": {},
   "outputs": [
    {
     "data": {
      "text/plain": [
       "-2.0372681319713593e-10"
      ]
     },
     "execution_count": 20,
     "metadata": {},
     "output_type": "execute_result"
    }
   ],
   "source": [
    "U(S1, V1, N1) - U2(T1, N1)"
   ]
  },
  {
   "cell_type": "markdown",
   "metadata": {},
   "source": [
    "# derivation of Helmholtz free energy"
   ]
  },
  {
   "cell_type": "code",
   "execution_count": 22,
   "metadata": {},
   "outputs": [
    {
     "data": {
      "image/png": "[encoded data removed]",
      "text/latex": [
       "$$\\frac{N T k_{B} \\left(- 2 C_{1} + \\log{\\left (\\frac{8 N^{2}}{27 T^{3} V^{2} k_{B}^{3}} \\right )} + 3\\right)}{2}$$"
      ],
      "text/plain": [
       "        ⎛           ⎛        2    ⎞    ⎞\n",
       "        ⎜           ⎜     8⋅N     ⎟    ⎟\n",
       "N⋅T⋅k_B⋅⎜-2⋅C₁ + log⎜─────────────⎟ + 3⎟\n",
       "        ⎜           ⎜    3  2    3⎟    ⎟\n",
       "        ⎝           ⎝27⋅T ⋅V ⋅k_B ⎠    ⎠\n",
       "────────────────────────────────────────\n",
       "                   2                    "
      ]
     },
     "execution_count": 22,
     "metadata": {},
     "output_type": "execute_result"
    }
   ],
   "source": [
    "import sympy\n",
    "sympy.init_printing()\n",
    "\n",
    "# declare symbols\n",
    "S = sympy.Symbol('S', rational=True, positive=True)\n",
    "V = sympy.Symbol('V', rational=True, positive=True)\n",
    "N = sympy.Symbol('N', rational=True, positive=True)\n",
    "T = sympy.Symbol('T', rational=True, positive=True)\n",
    "k_B = sympy.Symbol('k_B', rational=True, positive=True)\n",
    "C1 = sympy.Symbol('C_1', rational=True, positive=True)\n",
    "\n",
    "# Sackur-Tetrode equation solved for U\n",
    "U = N * ((N / V) * sympy.exp(S / (k_B * N) - C1))**sympy.Rational(2,3)\n",
    "\n",
    "# thermodynamic equation of state for temperature \n",
    "temperature = U.diff(S)\n",
    "\n",
    "# solve state equation for entropy\n",
    "# note: temperature = T <=> temperature - T = 0\n",
    "entropy = sympy.solve(temperature - T, S)[0]\n",
    "\n",
    "# eliminate S in U(S, V, N) to obtain the energy in terms of (T, V, N)\n",
    "energy = U.subs(S, entropy)\n",
    "\n",
    "# Helmholtz free energy\n",
    "free_energy = (energy - T * entropy).simplify()\n",
    "\n",
    "free_energy"
   ]
  },
  {
   "cell_type": "code",
   "execution_count": 36,
   "metadata": {},
   "outputs": [
    {
     "data": {
      "image/png": "[encoded data removed]",
      "text/latex": [
       "$$\\frac{N k_{B} \\left(- 2 C_{1} + \\log{\\left (\\frac{8 N^{2}}{27 T^{3} V^{2} k_{B}^{3}} \\right )}\\right)}{2}$$"
      ],
      "text/plain": [
       "      ⎛           ⎛        2    ⎞⎞\n",
       "      ⎜           ⎜     8⋅N     ⎟⎟\n",
       "N⋅k_B⋅⎜-2⋅C₁ + log⎜─────────────⎟⎟\n",
       "      ⎜           ⎜    3  2    3⎟⎟\n",
       "      ⎝           ⎝27⋅T ⋅V ⋅k_B ⎠⎠\n",
       "──────────────────────────────────\n",
       "                2                 "
      ]
     },
     "execution_count": 36,
     "metadata": {},
     "output_type": "execute_result"
    }
   ],
   "source": [
    "S = (free_energy.diff(T)).simplify()\n",
    "S"
   ]
  },
  {
   "cell_type": "code",
   "execution_count": 35,
   "metadata": {},
   "outputs": [
    {
     "data": {
      "image/png": "[encoded data removed]",
      "text/latex": [
       "$$\\frac{N T k_{B}}{V}$$"
      ],
      "text/plain": [
       "N⋅T⋅k_B\n",
       "───────\n",
       "   V   "
      ]
     },
     "execution_count": 35,
     "metadata": {},
     "output_type": "execute_result"
    }
   ],
   "source": [
    "p = -(free_energy.diff(V)).simplify()\n",
    "p"
   ]
  },
  {
   "cell_type": "code",
   "execution_count": 37,
   "metadata": {},
   "outputs": [
    {
     "data": {
      "image/png": "[encoded data removed]",
      "text/latex": [
       "$$\\frac{T k_{B} \\left(- 2 C_{1} + \\log{\\left (\\frac{8 N^{2}}{27 T^{3} V^{2} k_{B}^{3}} \\right )} + 5\\right)}{2}$$"
      ],
      "text/plain": [
       "      ⎛           ⎛        2    ⎞    ⎞\n",
       "      ⎜           ⎜     8⋅N     ⎟    ⎟\n",
       "T⋅k_B⋅⎜-2⋅C₁ + log⎜─────────────⎟ + 5⎟\n",
       "      ⎜           ⎜    3  2    3⎟    ⎟\n",
       "      ⎝           ⎝27⋅T ⋅V ⋅k_B ⎠    ⎠\n",
       "──────────────────────────────────────\n",
       "                  2                   "
      ]
     },
     "execution_count": 37,
     "metadata": {},
     "output_type": "execute_result"
    }
   ],
   "source": [
    "μ = (free_energy.diff(N)).simplify()\n",
    "μ"
   ]
  },
  {
   "cell_type": "code",
   "execution_count": 39,
   "metadata": {},
   "outputs": [
    {
     "name": "stdout",
     "output_type": "stream",
     "text": [
      "(1/2)*T*k_B*(-2*C_1 + math.log((8/27)*N**2/(T**3*V**2*k_B**3)) + 5)\n"
     ]
    }
   ],
   "source": [
    "print(sympy.pycode(μ))"
   ]
  },
  {
   "cell_type": "code",
   "execution_count": null,
   "metadata": {},
   "outputs": [],
   "source": []
  }
 ],
 "metadata": {
  "kernelspec": {
   "display_name": "Python 3",
   "language": "python",
   "name": "python3"
  },
  "language_info": {
   "codemirror_mode": {
    "name": "ipython",
    "version": 3
   },
   "file_extension": ".py",
   "mimetype": "text/x-python",
   "name": "python",
   "nbconvert_exporter": "python",
   "pygments_lexer": "ipython3",
   "version": "3.7.3"
  }
 },
 "nbformat": 4,
 "nbformat_minor": 4
}
