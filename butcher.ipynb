{
 "cells": [
  {
   "cell_type": "markdown",
   "metadata": {},
   "source": [
    "# Generate butcher tableaus for Gauss-Legendre collocation methods "
   ]
  },
  {
   "cell_type": "code",
   "execution_count": 5,
   "metadata": {},
   "outputs": [],
   "source": [
    "import sympy\n",
    "sympy.init_printing()\n",
    "from IPython.display import display\n",
    "import numpy as np\n",
    "\n",
    "import sys\n",
    "sys.path.insert(0, './code')"
   ]
  },
  {
   "cell_type": "code",
   "execution_count": 6,
   "metadata": {},
   "outputs": [
    {
     "name": "stdout",
     "output_type": "stream",
     "text": [
      "Butcher tableau for Gauss-Legendre collocation method of order 4:\n",
      "\n",
      "Shifted Legendre polynomial of degree 2:\n"
     ]
    },
    {
     "data": {
      "image/png": "[encoded data removed]",
      "text/latex": [
       "$$6 x^{2} - 6 x + 1$$"
      ],
      "text/plain": [
       "   2          \n",
       "6⋅x  - 6⋅x + 1"
      ]
     },
     "metadata": {},
     "output_type": "display_data"
    },
    {
     "name": "stdout",
     "output_type": "stream",
     "text": [
      "Roots / collocation points / coefficients C:\n"
     ]
    },
    {
     "data": {
      "image/png": "[encoded data removed]",
      "text/latex": [
       "$$\\left [ - \\frac{\\sqrt{3}}{6} + \\frac{1}{2}, \\quad \\frac{\\sqrt{3}}{6} + \\frac{1}{2}\\right ]$$"
      ],
      "text/plain": [
       "⎡  √3   1  √3   1⎤\n",
       "⎢- ── + ─, ── + ─⎥\n",
       "⎣  6    2  6    2⎦"
      ]
     },
     "metadata": {},
     "output_type": "display_data"
    },
    {
     "data": {
      "text/plain": [
       "array([0.21132487, 0.78867513])"
      ]
     },
     "metadata": {},
     "output_type": "display_data"
    },
    {
     "name": "stdout",
     "output_type": "stream",
     "text": [
      "Lagrange basis polynomials:\n"
     ]
    },
    {
     "data": {
      "image/png": "[encoded data removed]",
      "text/latex": [
       "$$\\left [ \\frac{\\sqrt{3} \\left(- 6 \\tau + \\sqrt{3} + 3\\right)}{6}, \\quad \\frac{\\sqrt{3} \\left(6 \\tau - 3 + \\sqrt{3}\\right)}{6}\\right ]$$"
      ],
      "text/plain": [
       "⎡√3⋅(-6⋅τ + √3 + 3)  √3⋅(6⋅τ - 3 + √3)⎤\n",
       "⎢──────────────────, ─────────────────⎥\n",
       "⎣        6                   6        ⎦"
      ]
     },
     "metadata": {},
     "output_type": "display_data"
    },
    {
     "name": "stdout",
     "output_type": "stream",
     "text": [
      "Coefficients A:\n"
     ]
    },
    {
     "data": {
      "image/png": "[encoded data removed]",
      "text/latex": [
       "$$\\left [ \\left [ \\frac{1}{4}, \\quad - \\frac{\\sqrt{3}}{6} + \\frac{1}{4}\\right ], \\quad \\left [ \\frac{1}{4} + \\frac{\\sqrt{3}}{6}, \\quad \\frac{1}{4}\\right ]\\right ]$$"
      ],
      "text/plain": [
       "⎡⎡       √3   1⎤  ⎡1   √3     ⎤⎤\n",
       "⎢⎢1/4, - ── + ─⎥, ⎢─ + ──, 1/4⎥⎥\n",
       "⎣⎣       6    4⎦  ⎣4   6      ⎦⎦"
      ]
     },
     "metadata": {},
     "output_type": "display_data"
    },
    {
     "data": {
      "text/plain": [
       "array([[ 0.25      , -0.03867513],\n",
       "       [ 0.53867513,  0.25      ]])"
      ]
     },
     "metadata": {},
     "output_type": "display_data"
    },
    {
     "name": "stdout",
     "output_type": "stream",
     "text": [
      "Coefficients B:\n"
     ]
    },
    {
     "data": {
      "image/png": "[encoded data removed]",
      "text/latex": [
       "$$\\left [ \\frac{1}{2}, \\quad \\frac{1}{2}\\right ]$$"
      ],
      "text/plain": [
       "[1/2, 1/2]"
      ]
     },
     "metadata": {},
     "output_type": "display_data"
    },
    {
     "data": {
      "text/plain": [
       "array([0.5, 0.5])"
      ]
     },
     "metadata": {},
     "output_type": "display_data"
    }
   ],
   "source": [
    "s = 2\n",
    "print(f\"Butcher tableau for Gauss-Legendre collocation method of order {2*s}:\\n\")\n",
    "\n",
    "from sympy.abc import tau, x\n",
    "\n",
    "print(f\"Shifted Legendre polynomial of degree {s}:\")\n",
    "P = (x**s * (x - 1)**s).diff(x, s).simplify() / sympy.factorial(s)\n",
    "display(P)\n",
    "\n",
    "print(f\"Roots / collocation points / coefficients C:\")\n",
    "C = sympy.solve(P)\n",
    "C.sort()\n",
    "Cf = np.array([float(c) for c in C])\n",
    "display(C)\n",
    "display(Cf)\n",
    "\n",
    "print(\"Lagrange basis polynomials:\")\n",
    "L = []\n",
    "for i in range(1, s+1):\n",
    "    l = 1\n",
    "    for j in range(1, s+1):\n",
    "        if j != i:\n",
    "            l = (l * (tau - C[j-1]) / (C[i-1] - C[j-1])).simplify()\n",
    "    L.append(l)\n",
    "display(L)\n",
    "\n",
    "print(\"Coefficients A:\")\n",
    "A = [[sympy.integrate(l, (tau, 0, c)).simplify() for l in L] for c in C]\n",
    "Af = np.array([[float(a) for a in r] for r in A])\n",
    "display(A)\n",
    "display(Af)\n",
    "\n",
    "print(\"Coefficients B:\")\n",
    "B = [sympy.integrate(l, (tau, 0, 1)).simplify() for l in L]\n",
    "Bf = np.array([float(b) for b in B])\n",
    "display(B)\n",
    "display(Bf)"
   ]
  },
  {
   "cell_type": "markdown",
   "metadata": {},
   "source": [
    "Some of this code ended up in the function `butcher(s)` in the module `code/gauss_legendre.py`"
   ]
  }
 ],
 "metadata": {
  "kernelspec": {
   "display_name": "Python 3",
   "language": "python",
   "name": "python3"
  },
  "language_info": {
   "codemirror_mode": {
    "name": "ipython",
    "version": 3
   },
   "file_extension": ".py",
   "mimetype": "text/x-python",
   "name": "python",
   "nbconvert_exporter": "python",
   "pygments_lexer": "ipython3",
   "version": "3.7.3"
  }
 },
 "nbformat": 4,
 "nbformat_minor": 4
}
