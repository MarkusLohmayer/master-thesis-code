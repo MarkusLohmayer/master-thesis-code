{
 "cells": [
  {
   "cell_type": "code",
   "execution_count": 8,
   "metadata": {},
   "outputs": [],
   "source": [
    "import sympy\n",
    "sympy.init_printing()\n",
    "from IPython.display import display\n",
    "import numpy as np"
   ]
  },
  {
   "cell_type": "markdown",
   "metadata": {},
   "source": [
    "## Port-Hamiltonian system without dissipation\n",
    "\n",
    "flows:\n",
    "$$\n",
    "f(t) := -\\dot{x}(t)\n",
    "$$\n",
    "\n",
    "efforts:\n",
    "$$\n",
    "e(t) := \\nabla H \\bigl( x(t) \\bigr)\n",
    "$$\n",
    "\n",
    "dynamics:\n",
    "$$\n",
    "-f(t) = J \\bigl( x(t) \\bigr) \\, e(t) + G \\bigl( x(t) \\bigr) \\, u(t)\n",
    "$$\n",
    "with inputs $u(t)$\n",
    "\n",
    "outputs:\n",
    "$$\n",
    "y(t) = G^\\mathrm{T} \\bigl( x(t) \\bigr) \\, e(t)\n",
    "$$"
   ]
  },
  {
   "cell_type": "markdown",
   "metadata": {},
   "source": [
    "Solving the initial value problem\n",
    "$$\n",
    "\\dot{x}(t) = J \\bigl( x(t) \\bigr) \\, e(t) + G \\bigl( x(t) \\bigr) \\, u(t)\n",
    "$$\n",
    "with initial condition $x(0) = x_0$\n",
    "on some time interval $I = t \\in \\left[ 0, t_f \\right]$\n",
    "is in general not possible analytically."
   ]
  },
  {
   "cell_type": "markdown",
   "metadata": {},
   "source": [
    "## Continuous collocation methods\n",
    "\n",
    "The problem can be solved numerically by splitting the time interval $I$ into $K$ subintervals\n",
    "$\n",
    "I^k :=\n",
    "\\left[ \\left( k-1 \\right) h, \\, k h \\right]\n",
    "$.\n",
    "The index $k = 1, 2, \\ldots, K$ identifies a paricular subinterval.\n",
    "The length of the subintervals has to be prescribed by chosing a time step $h$\n",
    "such that $t_f = h K$.\n",
    "\n",
    "The true solution $x(t)$ (with $t \\in I$) is then approximated by the numerical solution $\\tilde{x}(t)$ which is defined picewise: \n",
    "On each subinterval, $\\tilde{x}(t)$ (with $t \\in I^k$) is a polynomial of degree $s$ (in the variable $t$).\n",
    "More precisely, if $x(t) \\in \\mathbb{R}^N$ then $\\tilde{x}(t)$ is a vector of $N$ polynomials.\n",
    "\n",
    "Like the time step $h$, the oder of the polynomial approximation is a parameter that has to be chosen by the user (to control the fidelity of the numerical method).\n",
    "\n",
    "Since a polynomial of degree $s$ is determined by $s+1$ coefficients there are $s+1$ (vectorial) unknowns per interval.\n",
    "The continuity of the solution between two intervals determines one (vectorial) unknown.\n",
    "For the first interval $I^1$, this unknown is determined by the initial condition of the IVP.\n",
    "\n",
    "The remaining $s$ unknowns are fixed by requiring that the differential equation has to hold at $s$ collocation points $t_1^k, \\ldots, t_s^k \\in I^k$.\n",
    "The choice of these points within each subinterval is important for obtaining a good numerical approximation."
   ]
  },
  {
   "cell_type": "markdown",
   "metadata": {},
   "source": [
    "By defining, $t_0^k := \\left( k-1 \\right) h$ and $t_{s+1}^k := hk$ each subinterval can be written as $I_k = \\left[ t_0^k, t_{s+1}^k \\right]$.\n",
    "Then the collocation points $t_1^k, \\ldots, t_s^k$ can be written as\n",
    "$t_i^k := t_0^k + c_i \\, h$ with coefficients $c_1, \\ldots, c_s$\n",
    "satisfying  \n",
    "$\\forall \\, i \\in \\left\\{ 1, \\ldots, s \\right\\} \\: \\colon \\: 0 \\leq c_i \\leq 1$  \n",
    "$\\forall \\, i \\in \\left\\{ 1, \\ldots, s-1 \\right\\} \\: \\colon \\: c_i < c_{i+1}$."
   ]
  },
  {
   "cell_type": "markdown",
   "metadata": {},
   "source": [
    "Since on each subinterval the numerical solution $\\tilde{x}(t)$ is given as a vector of polynomials of degree $s$, the time derivative $\\dot{\\tilde{x}}(t)$ is a vector of polynomials of degree $s-1$.\n",
    "\n",
    "The numerical solution $\\tilde{x}(t)$ with $t \\in I^k$ can be written as\n",
    "$$\n",
    "\\tilde{x}(t) =\n",
    "\\tilde{x}(t_0^k) + \\int_{t_0^k}^t \\dot{\\tilde{x}}(u) \\, \\mathrm{d}u\n",
    "\\, .\n",
    "$$"
   ]
  },
  {
   "cell_type": "markdown",
   "metadata": {},
   "source": [
    "To make life easier, a local time coordinate $\\tau^k \\in \\left[ 0, 1 \\right]$ is defined on each subinterval $I^k$ by requiring that $t = \\bigl( \\left( k-1 \\right) + \\tau \\bigr) h$.\n",
    "Hence, $\\tau^k = 0$ corresponds to $t_0^k$ and $\\tau^k = 1$ corresponds to $t_{s+1}^k$.\n",
    "\n",
    "Based on this normalized time, the polynomial approximation of $\\dot{\\tilde{x}}$ can be defined in a unified manner for all $k$:\n",
    "On each subinterval, the vector $\\dot{\\tilde{x}}$ can be written as a linear combination\n",
    "$$\n",
    "\\dot{\\tilde{x}}(\\tau^k) :=\n",
    "\\sum\\limits_{i = 1}^s (-f_i^k) \\, l_i(\\tau)\n",
    "\\, .\n",
    "$$\n",
    "More precisely, the $n$-th component of $\\dot{\\tilde{x}}$ is a vector in the vector space that is spanned by the $s$ basis functions $l_1, \\ldots, l_s$.\n",
    "Given such a basis, this vector is determined by the tuple consisting of the $n$-th component of each of the vectors $f_1, \\ldots, f_s$.\n",
    "\n",
    "With this change of time coordinate and a choice of basis, equation (?) can be written as\n",
    "$$\n",
    "\\tilde{x}(t_0^k + \\tau^k \\, h) =\n",
    "\\tilde{x}(t_0^k) + \\int_0^\\tau \\biggl( \\sum\\limits_{j=1}^s (-f_j^k) \\, l_j(\\mu) \\biggr) \\, h \\, \\mathrm{d} \\mu =\n",
    "\\tilde{x}(t_0^k) - h \\, \\sum\\limits_{j=1}^s \\biggl( f_j^k \\, \\int_0^\\tau l_j(\\mu) \\, \\mathrm{d} \\mu \\biggr)\n",
    "\\, .\n",
    "$$\n",
    "\n",
    "The collocation method is based on relating $\\dot{\\tilde{x}}$ and $\\tilde{x}$ at the $s$ collocation points $c_1, \\ldots, c_s$ (in normalized time).\n",
    "Hence, it is convenient to chose the basis polynomials such that the $n$-th component of $f_i$ expresses the value of the $n$-th component of $\\dot{\\tilde{x}}$ at $\\tau = c_i$, i.e. $-f_i \\overset{!}{=} \\dot{\\tilde{x}}(c_i)$.\n",
    "\n",
    "These basis polynomials are the Lagrange polynomials\n",
    "$$\n",
    "l_i(\\tau) :=\n",
    "\\prod\\limits_{\\substack{j = 1 \\\\ j \\neq i}}^s \\frac{\\tau - c_j}{c_i - c_j}\n",
    "$$\n",
    "which have the desired property $l_i(c_j) = \\delta_{ij}$ (Kronecker delta)."
   ]
  },
  {
   "cell_type": "markdown",
   "metadata": {},
   "source": [
    "The value of the numerical solution $\\tilde{x}$ at the beginning of each subinterval $I^k$ shall be denoted by $x_0^k := \\tilde{x}(t_0^k)$.\n",
    "This value is known because of the continuity of the solution between subintervals or because of the initial condition (?), i.e. $x_0^1 = x_0$ and $x_0^{k} = x_{s+1}^{k-1}$ for $k > 1$.\n",
    "\n",
    "By defining \n",
    "$$\n",
    "b_j := \\int_0^1 l_j(\\mu) \\, \\mathrm{d} \\mu\n",
    "$$\n",
    "the numerical solution at the endpoint of a subinterval can be written as\n",
    "$$\n",
    "x_{s+1}^k := \\tilde{x}(t_{s+1}^k) =\n",
    "x_0^k - h \\, \\sum\\limits_{j=1}^s \\Bigl( b_j \\, f_j^k \\Bigr)\n",
    "\\, .\n",
    "$$\n",
    "It is the main goal of all computation done at a particular step $k$ to obtain the value $x_{s+1}^k$ which is determined by the result $x_{s+1}^{k-1} = x_0^k$ of the previous step and the coefficients $f_1^k, \\, \\ldots, f_s^k$."
   ]
  },
  {
   "cell_type": "markdown",
   "metadata": {},
   "source": [
    "These coefficients have to be determined by solving a (nonlinear) system of equations:\n",
    "Equation (?) has to hold at the collocation points $t_1^k, \\ldots, t_s^k$.\n",
    "Hence, the system of equation defines a relationship between the values of the derivative of the numerical solution at the collocation points given by the the unknowns $f_1^k, \\ldots, f_s^k$ and the values of the numerical solution at the collocation points $\\tilde{x}(t_1^k), \\ldots, \\tilde{x}(t_s^k)$ which in turn also depend on $f_1^k, \\ldots, f_s^k$.\n",
    "\n",
    "By defining\n",
    "$$\n",
    "a_{ij} := \\int_0^{c_i} l_j(\\mu) \\, \\mathrm{d} \\mu\n",
    "$$ the numerical solution $\\tilde{x}$ can conveniently be expressed at the collocation points:\n",
    "$$\n",
    "x_i^k := \\tilde{x}(t_i^k) =\n",
    "x_0^k - h \\, \\sum\\limits_{j=1}^s \\Bigl( a_{ij} \\, f_j^k \\Bigr)\n",
    "$$\n",
    "for $i = 1, \\ldots, s$.\n",
    "\n",
    "The following definitions are introduced for convenience:\n",
    "$$\n",
    "J_i^k := J(x_i^k)\n",
    "$$\n",
    "\n",
    "$$\n",
    "e_i^k := \\left. \\nabla H(x) \\right|_{x = x_i^k}\n",
    "$$\n",
    "\n",
    "$$\n",
    "G_i^k := G(x_i^k)\n",
    "$$\n",
    "\n",
    "$$\n",
    "u_i^k := u(t_i^k)\n",
    "$$\n",
    "\n",
    "Then, the system of equations which has to be solved at the $k$-th step can be written as\n",
    "$$\n",
    "f_i^k + J_i^k \\, e_i^k + G_i^k \\, u_i^k = 0\n",
    "$$\n",
    "for $i = 1, \\ldots, s$.\n",
    "In the general case, every term of the above equation except for $u_i^k$ depends on (a subset of) the unknowns $f_1^k, \\ldots, f_s^k$."
   ]
  },
  {
   "cell_type": "markdown",
   "metadata": {},
   "source": [
    "By introducing the block vectors and matrices\n",
    "$$\n",
    "f^k := \\left[ (f_1^k)^\\mathrm{T}, \\ldots, (f_s^k)^\\mathrm{T} \\right]^\\mathrm{T}\n",
    "$$\n",
    "\n",
    "$$\n",
    "J^k := \\mathrm{blockdiag}(J_1^k, \\ldots, J_s^k)\n",
    "$$\n",
    "\n",
    "$$\n",
    "e^k := \\left[ (e_1^k)^\\mathrm{T}, \\ldots, (e_s^k)^\\mathrm{T} \\right]^\\mathrm{T}\n",
    "$$\n",
    "\n",
    "$$\n",
    "G^k := \\mathrm{blockdiag}(G_1^k, \\ldots, G_s^k)\n",
    "$$\n",
    "\n",
    "$$\n",
    "u^k := \\left[ (u_1^k)^\\mathrm{T}, \\ldots, (u_s^k)^\\mathrm{T} \\right]^\\mathrm{T}\n",
    "$$\n",
    "the system of equations () can be written as\n",
    "$$\n",
    "f^k + J^k \\, e^k + G^k \\, u^k = 0\n",
    "$$"
   ]
  },
  {
   "cell_type": "markdown",
   "metadata": {},
   "source": [
    "### Gauss-Legendre collocation\n",
    "\n",
    "Gauss-Legendre collocation methods use the roots of the shifted Legendre polynomial\n",
    "$$\n",
    "\\frac{1}{s!} \\frac{\\mathrm{d}^s}{\\mathrm{d} x^s} \\Bigl( \\bigl( x \\left( x - 1 \\right) \\bigr)^s \\Bigr)\n",
    "$$\n",
    "as coefficients $c_1, \\,\\ldots, c_s$."
   ]
  },
  {
   "cell_type": "code",
   "execution_count": 54,
   "metadata": {},
   "outputs": [
    {
     "name": "stdout",
     "output_type": "stream",
     "text": [
      "Shifted Legendre polynomials of degree s = 1, 2, 3 and their roots:\n",
      "\n",
      "s = 1:\n"
     ]
    },
    {
     "data": {
      "image/png": "[encoded data removed]",
      "text/latex": [
       "$$2 x - 1$$"
      ],
      "text/plain": [
       "2⋅x - 1"
      ]
     },
     "metadata": {},
     "output_type": "display_data"
    },
    {
     "data": {
      "image/png": "[encoded data removed]",
      "text/latex": [
       "$$\\left [ \\frac{1}{2}\\right ]$$"
      ],
      "text/plain": [
       "[1/2]"
      ]
     },
     "metadata": {},
     "output_type": "display_data"
    },
    {
     "data": {
      "image/png": "[encoded data removed]",
      "text/latex": [
       "$$\\left [ 0.5\\right ]$$"
      ],
      "text/plain": [
       "[0.5]"
      ]
     },
     "metadata": {},
     "output_type": "display_data"
    },
    {
     "name": "stdout",
     "output_type": "stream",
     "text": [
      "\n",
      "\n",
      "s = 2:\n"
     ]
    },
    {
     "data": {
      "image/png": "[encoded data removed]",
      "text/latex": [
       "$$6 x^{2} - 6 x + 1$$"
      ],
      "text/plain": [
       "   2          \n",
       "6⋅x  - 6⋅x + 1"
      ]
     },
     "metadata": {},
     "output_type": "display_data"
    },
    {
     "data": {
      "image/png": "[encoded data removed]",
      "text/latex": [
       "$$\\left [ - \\frac{\\sqrt{3}}{6} + \\frac{1}{2}, \\quad \\frac{\\sqrt{3}}{6} + \\frac{1}{2}\\right ]$$"
      ],
      "text/plain": [
       "⎡  √3   1  √3   1⎤\n",
       "⎢- ── + ─, ── + ─⎥\n",
       "⎣  6    2  6    2⎦"
      ]
     },
     "metadata": {},
     "output_type": "display_data"
    },
    {
     "data": {
      "image/png": "[encoded data removed]",
      "text/latex": [
       "$$\\left [ 0.211, \\quad 0.789\\right ]$$"
      ],
      "text/plain": [
       "[0.211, 0.789]"
      ]
     },
     "metadata": {},
     "output_type": "display_data"
    },
    {
     "name": "stdout",
     "output_type": "stream",
     "text": [
      "\n",
      "\n",
      "s = 3:\n"
     ]
    },
    {
     "data": {
      "image/png": "[encoded data removed]",
      "text/latex": [
       "$$20 x^{3} - 30 x^{2} + 12 x - 1$$"
      ],
      "text/plain": [
       "    3       2           \n",
       "20⋅x  - 30⋅x  + 12⋅x - 1"
      ]
     },
     "metadata": {},
     "output_type": "display_data"
    },
    {
     "data": {
      "image/png": "[encoded data removed]",
      "text/latex": [
       "$$\\left [ \\frac{1}{2}, \\quad - \\frac{\\sqrt{15}}{10} + \\frac{1}{2}, \\quad \\frac{\\sqrt{15}}{10} + \\frac{1}{2}\\right ]$$"
      ],
      "text/plain": [
       "⎡       √15   1  √15   1⎤\n",
       "⎢1/2, - ─── + ─, ─── + ─⎥\n",
       "⎣        10   2   10   2⎦"
      ]
     },
     "metadata": {},
     "output_type": "display_data"
    },
    {
     "data": {
      "image/png": "[encoded data removed]",
      "text/latex": [
       "$$\\left [ 0.5, \\quad 0.113, \\quad 0.887\\right ]$$"
      ],
      "text/plain": [
       "[0.5, 0.113, 0.887]"
      ]
     },
     "metadata": {},
     "output_type": "display_data"
    },
    {
     "name": "stdout",
     "output_type": "stream",
     "text": [
      "\n",
      "\n"
     ]
    }
   ],
   "source": [
    "# compute shifted Legendre polynomials up to degree s_max and their roots\n",
    "s_max = 3\n",
    "range_ = range(1, s_max+1)\n",
    "print(f\"Shifted Legendre polynomials of degree s = {', '.join([str(s) for s in range_])} and their roots:\\n\")\n",
    "\n",
    "from sympy.abc import x\n",
    "for s in range_:\n",
    "    print(f\"s = {s}:\")\n",
    "    P = (x**s * (x - 1)**s).diff(x, s).simplify() / sympy.factorial(s)\n",
    "    display(P)\n",
    "    C = sympy.solve(P)\n",
    "    display(C)\n",
    "    display([round(float(c), 3) for c in C])\n",
    "    print(\"\\n\")"
   ]
  },
  {
   "cell_type": "code",
   "execution_count": 115,
   "metadata": {},
   "outputs": [
    {
     "name": "stdout",
     "output_type": "stream",
     "text": [
      "Butcher tableau for Gauss-Legendre collocation method of order 4:\n",
      "\n",
      "Shifted Legendre polynomial of degree 2:\n"
     ]
    },
    {
     "data": {
      "image/png": "[encoded data removed]",
      "text/latex": [
       "$$6 x^{2} - 6 x + 1$$"
      ],
      "text/plain": [
       "   2          \n",
       "6⋅x  - 6⋅x + 1"
      ]
     },
     "metadata": {},
     "output_type": "display_data"
    },
    {
     "name": "stdout",
     "output_type": "stream",
     "text": [
      "Roots / collocation points / coefficients C:\n"
     ]
    },
    {
     "data": {
      "image/png": "[encoded data removed]",
      "text/latex": [
       "$$\\left [ - \\frac{\\sqrt{3}}{6} + \\frac{1}{2}, \\quad \\frac{\\sqrt{3}}{6} + \\frac{1}{2}\\right ]$$"
      ],
      "text/plain": [
       "⎡  √3   1  √3   1⎤\n",
       "⎢- ── + ─, ── + ─⎥\n",
       "⎣  6    2  6    2⎦"
      ]
     },
     "metadata": {},
     "output_type": "display_data"
    },
    {
     "data": {
      "text/plain": [
       "array([0.21132487, 0.78867513])"
      ]
     },
     "metadata": {},
     "output_type": "display_data"
    },
    {
     "name": "stdout",
     "output_type": "stream",
     "text": [
      "Lagrange basis polynomials:\n"
     ]
    },
    {
     "data": {
      "image/png": "[encoded data removed]",
      "text/latex": [
       "$$\\left [ \\frac{\\sqrt{3} \\left(- 6 \\tau + \\sqrt{3} + 3\\right)}{6}, \\quad \\frac{\\sqrt{3} \\left(6 \\tau - 3 + \\sqrt{3}\\right)}{6}\\right ]$$"
      ],
      "text/plain": [
       "⎡√3⋅(-6⋅τ + √3 + 3)  √3⋅(6⋅τ - 3 + √3)⎤\n",
       "⎢──────────────────, ─────────────────⎥\n",
       "⎣        6                   6        ⎦"
      ]
     },
     "metadata": {},
     "output_type": "display_data"
    },
    {
     "name": "stdout",
     "output_type": "stream",
     "text": [
      "Coefficients A:\n"
     ]
    },
    {
     "data": {
      "image/png": "[encoded data removed]",
      "text/latex": [
       "$$\\left [ \\left [ \\frac{1}{4}, \\quad - \\frac{\\sqrt{3}}{6} + \\frac{1}{4}\\right ], \\quad \\left [ \\frac{1}{4} + \\frac{\\sqrt{3}}{6}, \\quad \\frac{1}{4}\\right ]\\right ]$$"
      ],
      "text/plain": [
       "⎡⎡       √3   1⎤  ⎡1   √3     ⎤⎤\n",
       "⎢⎢1/4, - ── + ─⎥, ⎢─ + ──, 1/4⎥⎥\n",
       "⎣⎣       6    4⎦  ⎣4   6      ⎦⎦"
      ]
     },
     "metadata": {},
     "output_type": "display_data"
    },
    {
     "data": {
      "text/plain": [
       "array([[ 0.25      , -0.03867513],\n",
       "       [ 0.53867513,  0.25      ]])"
      ]
     },
     "metadata": {},
     "output_type": "display_data"
    },
    {
     "name": "stdout",
     "output_type": "stream",
     "text": [
      "Coefficients B:\n"
     ]
    },
    {
     "data": {
      "image/png": "[encoded data removed]",
      "text/latex": [
       "$$\\left [ \\frac{1}{2}, \\quad \\frac{1}{2}\\right ]$$"
      ],
      "text/plain": [
       "[1/2, 1/2]"
      ]
     },
     "metadata": {},
     "output_type": "display_data"
    },
    {
     "data": {
      "text/plain": [
       "array([0.5, 0.5])"
      ]
     },
     "metadata": {},
     "output_type": "display_data"
    }
   ],
   "source": [
    "s = 2\n",
    "print(f\"Butcher tableau for Gauss-Legendre collocation method of order {2*s}:\\n\")\n",
    "\n",
    "from sympy.abc import tau, x\n",
    "\n",
    "print(f\"Shifted Legendre polynomial of degree {s}:\")\n",
    "P = (x**s * (x - 1)**s).diff(x, s).simplify() / sympy.factorial(s)\n",
    "display(P)\n",
    "\n",
    "print(f\"Roots / collocation points / coefficients C:\")\n",
    "C = sympy.solve(P)\n",
    "C.sort()\n",
    "Cf = np.array([float(c) for c in C])\n",
    "display(C)\n",
    "display(Cf)\n",
    "\n",
    "print(\"Lagrange basis polynomials:\")\n",
    "L = []\n",
    "for i in range(1, s+1):\n",
    "    l = 1\n",
    "    for j in range(1, s+1):\n",
    "        if j != i:\n",
    "            l = (l * (tau - C[j-1]) / (C[i-1] - C[j-1])).simplify()\n",
    "    L.append(l)\n",
    "display(L)\n",
    "\n",
    "print(\"Coefficients A:\")\n",
    "A = [[sympy.integrate(l, (tau, 0, c)).simplify() for l in L] for c in C]\n",
    "Af = np.array([[float(a) for a in r] for r in A])\n",
    "display(A)\n",
    "display(Af)\n",
    "\n",
    "print(\"Coefficients B:\")\n",
    "B = [sympy.integrate(l, (tau, 0, 1)).simplify() for l in L]\n",
    "Bf = np.array([float(b) for b in B])\n",
    "display(B)\n",
    "display(Bf)"
   ]
  },
  {
   "cell_type": "code",
   "execution_count": 111,
   "metadata": {},
   "outputs": [],
   "source": [
    "# harmonic oscillator\n",
    "\n",
    "q = sympy.Symbol('q')\n",
    "p = sympy.Symbol('p')\n",
    "x = sympy.Matrix([q, p])\n",
    "\n",
    "J = sympy.Matrix([[0, 1], [-1, 0]])\n",
    "\n",
    "m = 0.1 \n",
    "k = 5\n",
    "H = sympy.Rational(1,2) * p * 1/m * p + sympy.Rational(1, 2) * q * k * q\n",
    "e = sympy.Matrix([H.diff(e) for e in x])"
   ]
  },
  {
   "cell_type": "code",
   "execution_count": null,
   "metadata": {},
   "outputs": [],
   "source": [
    "t_f = 10.0\n",
    "x_0 = np.array([np.pi/6, 0.0], dtype=float)\n",
    "\n",
    "h = 5e-2\n",
    "K = int(t_f // h)\n",
    "h = t_f / K\n",
    "\n",
    "N = len(x)\n",
    "\n",
    "sol = np.empty((K, N), dtype=float)\n",
    "sol[0] = x_0\n",
    "\n",
    "for k in range(1, K):\n",
    "    \n",
    "    \n",
    "    \n",
    "    sol[k] = sol[k-1] - h * Bf @ f "
   ]
  },
  {
   "cell_type": "code",
   "execution_count": null,
   "metadata": {},
   "outputs": [],
   "source": []
  },
  {
   "cell_type": "code",
   "execution_count": 130,
   "metadata": {},
   "outputs": [
    {
     "data": {
      "text/plain": [
       "array([[1. , 2. ],\n",
       "       [0.5, 0.7]])"
      ]
     },
     "execution_count": 130,
     "metadata": {},
     "output_type": "execute_result"
    }
   ],
   "source": [
    "f_1 = np.array([1.0, 2.0])\n",
    "f_2 = np.array([0.5, 0.7])\n",
    "f = np.vstack((f_1, f_2))\n",
    "f"
   ]
  },
  {
   "cell_type": "code",
   "execution_count": 102,
   "metadata": {},
   "outputs": [],
   "source": [
    "# rigid body\n",
    "\n",
    "x_1 = sympy.Symbol('x_1')\n",
    "x_2 = sympy.Symbol('x_2')\n",
    "x_3 = sympy.Symbol('x_3')\n",
    "x = sympy.Matrix([x_1, x_2, x_3])\n",
    "\n",
    "J = sympy.Matrix([[0, x_3 / 3, -x_2 / 2],\n",
    "                  [-x_3 / 3, 0, x_1 / 1],\n",
    "                  [x_2 / 2, -x_1 / 1, 0]])"
   ]
  }
 ],
 "metadata": {
  "kernelspec": {
   "display_name": "Python 3",
   "language": "python",
   "name": "python3"
  },
  "language_info": {
   "codemirror_mode": {
    "name": "ipython",
    "version": 3
   },
   "file_extension": ".py",
   "mimetype": "text/x-python",
   "name": "python",
   "nbconvert_exporter": "python",
   "pygments_lexer": "ipython3",
   "version": "3.7.3"
  }
 },
 "nbformat": 4,
 "nbformat_minor": 4
}
